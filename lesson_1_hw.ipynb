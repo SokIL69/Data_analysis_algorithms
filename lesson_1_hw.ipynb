{
 "cells": [
  {
   "cell_type": "markdown",
   "metadata": {},
   "source": [
    "# Алгоритмы анализа данных"
   ]
  },
  {
   "cell_type": "markdown",
   "metadata": {},
   "source": [
    "### Урок 1. Алгоритм линейной регрессии. Градиентный спуск"
   ]
  },
  {
   "cell_type": "markdown",
   "metadata": {},
   "source": [
    "## <center> Практическое задание </center> "
   ]
  },
  {
   "cell_type": "markdown",
   "metadata": {},
   "source": [
    "**1. Подберите скорость обучения(alpha $\\alpha$) и количество итераций (градиентный спуск):**"
   ]
  },
  {
   "cell_type": "code",
   "execution_count": 3,
   "metadata": {},
   "outputs": [],
   "source": [
    "%matplotlib inline\n",
    "import numpy as np\n",
    "import matplotlib.pyplot as plt"
   ]
  },
  {
   "cell_type": "code",
   "execution_count": 27,
   "metadata": {},
   "outputs": [
    {
     "data": {
      "text/plain": [
       "(2, 10)"
      ]
     },
     "execution_count": 27,
     "metadata": {},
     "output_type": "execute_result"
    }
   ],
   "source": [
    "y = np.array([45, 55, 50, 59, 65, 35, 75, 80, 50, 60])\n",
    "\n",
    "X = np.array(\n",
    "    [\n",
    "        [1, 1, 1, 1, 1, 1, 1, 1, 1, 1],\n",
    "        [1, 1, 2, 1, 3, 0, 5, 10, 1, 2]\n",
    "    ]\n",
    ")\n",
    "\n",
    "X.shape"
   ]
  },
  {
   "cell_type": "code",
   "execution_count": 12,
   "metadata": {},
   "outputs": [
    {
     "name": "stderr",
     "output_type": "stream",
     "text": [
      "No handles with labels found to put in legend.\n"
     ]
    },
    {
     "data": {
      "text/plain": [
       "<matplotlib.legend.Legend at 0xc99df3ef10>"
      ]
     },
     "execution_count": 12,
     "metadata": {},
     "output_type": "execute_result"
    },
    {
     "data": {
      "image/png": "[encoded data removed]",
      "text/plain": [
       "<Figure size 432x288 with 1 Axes>"
      ]
     },
     "metadata": {
      "needs_background": "light"
     },
     "output_type": "display_data"
    }
   ],
   "source": [
    "a = 2\n",
    "b = 50\n",
    "plt.scatter(X[1, :], y)\n",
    "# y = a*x + b #\n",
    "# plt.plot(X[1, :], a*X[1, :] + b, label=\"model_1\")\n",
    "# plt.plot(X[1, :], 2*a*X[1, :] + 50, label=\"model_2\")\n",
    "plt.legend(loc='best')"
   ]
  },
  {
   "cell_type": "code",
   "execution_count": 13,
   "metadata": {},
   "outputs": [],
   "source": [
    "def calc_mse(y, y_pred):\n",
    "    err = np.mean((y - y_pred)**2)\n",
    "    return err"
   ]
  },
  {
   "cell_type": "code",
   "execution_count": 14,
   "metadata": {},
   "outputs": [],
   "source": [
    "def calc_mae(y, y_pred):\n",
    "    err = np.mean(np.abs(y - y_pred))\n",
    "    return err"
   ]
  },
  {
   "cell_type": "markdown",
   "metadata": {},
   "source": [
    "### Градиентный спуск"
   ]
  },
  {
   "cell_type": "markdown",
   "metadata": {},
   "source": [
    "В случае многомерной регрессии (при количестве признаков больше 1) при оптимизации функционала ошибки \n",
    "\n",
    "$$Q(w, X) = \\frac{1}{l}||Xw-y||^{2}\\rightarrow \\underset{w}{\\text{min}}$$\n",
    "\n",
    "формула вычисления градиента принимает вид\n",
    "\n",
    "$$\\nabla_{w}Q(w,X) = \\frac{2}{l}X^{T}(Xw-y).$$"
   ]
  },
  {
   "cell_type": "code",
   "execution_count": 56,
   "metadata": {},
   "outputs": [
    {
     "data": {
      "text/plain": [
       "(array([[ 1,  1,  1,  1,  1,  1,  1,  1,  1,  1],\n",
       "        [ 1,  1,  2,  1,  3,  0,  5, 10,  1,  2]]),\n",
       " (2, 10))"
      ]
     },
     "execution_count": 56,
     "metadata": {},
     "output_type": "execute_result"
    }
   ],
   "source": [
    "X, X.shape  # размер нашего датасета"
   ]
  },
  {
   "cell_type": "code",
   "execution_count": 57,
   "metadata": {},
   "outputs": [
    {
     "data": {
      "text/plain": [
       "10"
      ]
     },
     "execution_count": 57,
     "metadata": {},
     "output_type": "execute_result"
    }
   ],
   "source": [
    "# количество объектов n = 10\n",
    "# количество признаков = 2\n",
    "\n",
    "n = X.shape[1]\n",
    "n"
   ]
  },
  {
   "cell_type": "code",
   "execution_count": 58,
   "metadata": {},
   "outputs": [
    {
     "data": {
      "text/plain": [
       "(array([1. , 0.5]), 0.01)"
      ]
     },
     "execution_count": 58,
     "metadata": {},
     "output_type": "execute_result"
    }
   ],
   "source": [
    "# скорость обучения (базовый шаг alpha) \n",
    "alpha = 1e-02\n",
    "#alpha = 1e-03\n",
    "#alpha = 1e-04\n",
    "#alpha = 1e-08\n",
    "#alpha = 1e-10\n",
    "#alpha = 1e-15\n",
    "\n",
    "# задаём начальный вектор весов\n",
    "W = np.array([1, 0.5])\n",
    "\n",
    "W, alpha"
   ]
  },
  {
   "cell_type": "code",
   "execution_count": 60,
   "metadata": {},
   "outputs": [
    {
     "name": "stdout",
     "output_type": "stream",
     "text": [
      "0 [47.23214286  3.91071429] 45.9375 5000 0.01\n",
      "100 [47.23214286  3.91071429] 45.9375 5000 0.01\n",
      "200 [47.23214286  3.91071429] 45.9375 5000 0.01\n",
      "300 [47.23214286  3.91071429] 45.9375 5000 0.01\n",
      "400 [47.23214286  3.91071429] 45.9375 5000 0.01\n",
      "500 [47.23214286  3.91071429] 45.9375 5000 0.01\n",
      "600 [47.23214286  3.91071429] 45.9375 5000 0.01\n",
      "700 [47.23214286  3.91071429] 45.9375 5000 0.01\n",
      "800 [47.23214286  3.91071429] 45.9375 5000 0.01\n",
      "900 [47.23214286  3.91071429] 45.9375 5000 0.01\n",
      "1000 [47.23214286  3.91071429] 45.9375 5000 0.01\n",
      "1100 [47.23214286  3.91071429] 45.9375 5000 0.01\n",
      "1200 [47.23214286  3.91071429] 45.9375 5000 0.01\n",
      "1300 [47.23214286  3.91071429] 45.9375 5000 0.01\n",
      "1400 [47.23214286  3.91071429] 45.9375 5000 0.01\n",
      "1500 [47.23214286  3.91071429] 45.9375 5000 0.01\n",
      "1600 [47.23214286  3.91071429] 45.9375 5000 0.01\n",
      "1700 [47.23214286  3.91071429] 45.9375 5000 0.01\n",
      "1800 [47.23214286  3.91071429] 45.9375 5000 0.01\n",
      "1900 [47.23214286  3.91071429] 45.9375 5000 0.01\n",
      "2000 [47.23214286  3.91071429] 45.9375 5000 0.01\n",
      "2100 [47.23214286  3.91071429] 45.9375 5000 0.01\n",
      "2200 [47.23214286  3.91071429] 45.9375 5000 0.01\n",
      "2300 [47.23214286  3.91071429] 45.9375 5000 0.01\n",
      "2400 [47.23214286  3.91071429] 45.9375 5000 0.01\n",
      "2500 [47.23214286  3.91071429] 45.9375 5000 0.01\n",
      "2600 [47.23214286  3.91071429] 45.9375 5000 0.01\n",
      "2700 [47.23214286  3.91071429] 45.9375 5000 0.01\n",
      "2800 [47.23214286  3.91071429] 45.9375 5000 0.01\n",
      "2900 [47.23214286  3.91071429] 45.9375 5000 0.01\n",
      "3000 [47.23214286  3.91071429] 45.9375 5000 0.01\n",
      "3100 [47.23214286  3.91071429] 45.9375 5000 0.01\n",
      "3200 [47.23214286  3.91071429] 45.9375 5000 0.01\n",
      "3300 [47.23214286  3.91071429] 45.9375 5000 0.01\n",
      "3400 [47.23214286  3.91071429] 45.9375 5000 0.01\n",
      "3500 [47.23214286  3.91071429] 45.9375 5000 0.01\n",
      "3600 [47.23214286  3.91071429] 45.9375 5000 0.01\n",
      "3700 [47.23214286  3.91071429] 45.9375 5000 0.01\n",
      "3800 [47.23214286  3.91071429] 45.9375 5000 0.01\n",
      "3900 [47.23214286  3.91071429] 45.9375 5000 0.01\n",
      "4000 [47.23214286  3.91071429] 45.9375 5000 0.01\n",
      "4100 [47.23214286  3.91071429] 45.9375 5000 0.01\n",
      "4200 [47.23214286  3.91071429] 45.9375 5000 0.01\n",
      "4300 [47.23214286  3.91071429] 45.9375 5000 0.01\n",
      "4400 [47.23214286  3.91071429] 45.9375 5000 0.01\n",
      "4500 [47.23214286  3.91071429] 45.9375 5000 0.01\n",
      "4600 [47.23214286  3.91071429] 45.9375 5000 0.01\n",
      "4700 [47.23214286  3.91071429] 45.9375 5000 0.01\n",
      "4800 [47.23214286  3.91071429] 45.9375 5000 0.01\n",
      "4900 [47.23214286  3.91071429] 45.9375 5000 0.01\n"
     ]
    }
   ],
   "source": [
    "# k - число итераций, с делать динамическим\n",
    "k = 1500\n",
    "k = 5000\n",
    "# k = 10000\n",
    "for i in range(k):\n",
    "    y_pred = W @ X  # вычисляем вектор прогнозов\n",
    "    err = calc_mse(y, y_pred)  # вычисляем ошибку\n",
    "    \n",
    "    # в цикле по вектору весов, вычисляем новые веса (Формула вычисления градиента)\n",
    "    for ii in range(W.shape[0]):\n",
    "        # W[ii] = W[ii] - alpha * (1 / n * 2 * np.sum(X[ii] * (y_pred - y)))\n",
    "        # W[ii] - веса на предыдущей итерации\n",
    "        # alpha - скорость обучения\n",
    "        # (1 / n * 2 * np.sum(X[ii] * (y_pred - y))) - градиент функции потерь\n",
    "        W[ii] -= alpha * (1 / n * 2 * np.sum(X[ii] * (y_pred - y)))\n",
    "    if i % 100 == 0:\n",
    "        print(i, W, err, k, alpha)  # i - итерация, W - вектор весов, err -значение ошибки\n",
    "\n",
    "# k = 1500\n",
    "# 1400 [47.23212359  3.91071784] 45.93750000020376 k = 1500 alpha = 1e-02 \n",
    "# 1400 [36.9651021  5.8066019] 102.7269452082483 k = 1500 alpha = 1e-03 \n",
    "# 1400 [ 9.08081151 10.78209811] 827.7864098809556 k = 1500 alpha = 1e-04 \n",
    "# 1400 [1.00154371 0.50476237] 3171.3623257032023 k = 1500 alpha = 1e-08 \n",
    "# 1400 [1.00001544 0.50004763] 3173.1321159086465 k = 1500 alpha = 1e-10 \n",
    "# 1400 [1.  0.5] 3173.1499998211925  k = 1500 alpha = 1e-15 \n",
    "\n",
    "# k = 5000\n",
    "# 4900 [47.23214286  3.91071429] 45.9375 k = 5000 alpha = 1e-02\n",
    "# 4900 [46.96291178  3.96042986] 45.9765505745093  k = 5000 alpha = 1e-03 \n",
    "# 4900 [20.74111664  8.80248048] 423.30222424803867 k = 5000 alpha = 1e-04 \n",
    "# 4900 [1.00539852 0.5166508 ] 3166.8996306920635 k = 5000 alpha = 1e-08 \n",
    "# 4900 [1.00005401 0.50016663] 3173.0874063301508 k = 5000 alpha = 1e-10 \n",
    "# 4900 [1.  0.5] 3173.149999374173 k = 5000 alpha = 1e-15\n",
    "\n",
    "# k = 10000\n",
    "# 9900 [47.23214286  3.91071429] 45.9375 10000 0.01\n",
    "# 9900 [47.23066001  3.9109881 ] 45.93750118459529 10000 0.001\n",
    "# 9900 [31.48137887  6.81921334] 179.34093406577975 10000 0.0001\n",
    "# 9900 [1.01090117 0.53361199] 3160.5404050441257 10000 1e-08\n",
    "# 9900 [1.00010911 0.50033663] 3173.0235371142035 10000 1e-10\n",
    "# 9900 [1.  0.5] 3173.1499987355733 10000 1e-15"
   ]
  },
  {
   "cell_type": "markdown",
   "metadata": {},
   "source": [
    "### Вывод\n",
    "\n",
    "Наибольшее значение для модели, имеет <u>скорость обучения</u> $\\alpha$ и затем <u>количество итераций</u> k.<br />\n",
    "\n",
    "При $\\alpha=0.01$ и $k=1500$:\n",
    "<center>вектор весов $W$=[47.23212359,&nbsp;3.91071784] и ошибка $err=45.93750000020376$</center>\n",
    "\n",
    "При $\\alpha=0.01$ и $k=5000$:\n",
    "<center> вектор весов $W$=[47.23214286,&nbsp; 3.91071429] и ошибка $err=45.9375$ </center> <br /> и не меняется после шага $i=3200$.<br />\n",
    "Значения вектора весов и ошибки совпадают с базисными значениями.<br />\n",
    "\n",
    "__Базисные значения__: <center>$W$ = [47.23214286,&nbsp; 3.91071429], $err$=45.93749999999999</center>\n",
    "\n",
    "При уменьшении скорости обучения $\\alpha < 0.01$ значение ошибки увеличивается, а вектор весов меньше отлечается от значений начального вектора весов [1, 0.5]. <br />\n",
    "При этом даже значительное увеличение значения количества итераций, не позволяет достич базовых значений вектора весов $W$ и ошибки $err$:\n",
    "\n",
    "Например, для $k=10000$:\n",
    "- $\\alpha=0.01$ ($шаг=3200$): $W$=[47.23214286, 3.91071429], $err$=45.9375\n",
    "- $\\alpha=0.001$ ($шаг=9900$): $W$=[47.23066001  3.9109881 ], $err$=45.93750118459529 \n",
    "- $\\alpha=0.0001$ ($шаг=9900$): $W$=[31.48137887  6.81921334], $err$=179.34093406577975\n",
    "- $\\alpha=1e-08$ ($шаг=9900$): $W$=[1.01090117 0.53361199], $err$=3160.5404050441257\n",
    "- $\\alpha=1e-10$ ($шаг=9900$): $W$=[1.00010911 0.50033663], $err$=3173.0235371142035\n",
    "- $\\alpha=1e-15$ ($шаг=9900$): $W$=[1.  0.5], $err$=3173.1499987355733"
   ]
  },
  {
   "cell_type": "code",
   "execution_count": 43,
   "metadata": {},
   "outputs": [
    {
     "data": {
      "text/plain": [
       "(array([47.23214286,  3.91071429]), 45.93749999999999)"
      ]
     },
     "execution_count": 43,
     "metadata": {},
     "output_type": "execute_result"
    }
   ],
   "source": [
    "# Базисные значения:\n",
    "W_norm = np.linalg.inv(np.dot(X, X.T)) @ X @ y\n",
    "y_pred = W_norm @ X  # вычисляем вектор прогнозов\n",
    "err = calc_mse(y, y_pred)  # вычисляем ошибку\n",
    "W_norm, err"
   ]
  },
  {
   "cell_type": "code",
   "execution_count": 47,
   "metadata": {},
   "outputs": [
    {
     "data": {
      "text/plain": [
       "<matplotlib.legend.Legend at 0xc99dfee760>"
      ]
     },
     "execution_count": 47,
     "metadata": {},
     "output_type": "execute_result"
    },
    {
     "data": {
      "image/png": "[encoded data removed]",
      "text/plain": [
       "<Figure size 432x288 with 1 Axes>"
      ]
     },
     "metadata": {
      "needs_background": "light"
     },
     "output_type": "display_data"
    }
   ],
   "source": [
    "# Построим график найденного значения\n",
    "# 𝛼=0.01 k=5000: вектор весов 𝑊 =[47.23214286, 3.91071429], ошибка 𝑒𝑟𝑟=45.9375\n",
    "plt.scatter(X[1, :], y)\n",
    "plt.plot(X[1, :], W[1]*X[1, :] + W[0], label=\"model\")\n",
    "plt.legend(loc='best')"
   ]
  },
  {
   "cell_type": "markdown",
   "metadata": {},
   "source": [
    "**2\\*. В этом коде мы избавляемся от итераций по весам, но тут есть ошибка, исправьте ее:**"
   ]
  },
  {
   "cell_type": "code",
   "execution_count": 18,
   "metadata": {},
   "outputs": [],
   "source": [
    "W = np.array([1, 0.5])"
   ]
  },
  {
   "cell_type": "code",
   "execution_count": null,
   "metadata": {},
   "outputs": [],
   "source": [
    "for i in range(287):\n",
    "    y_pred = np.dot(W, X)\n",
    "    err = calc_mse(y, y_pred)\n",
    "    # циклы с numpy-объектами или pandas-объектами использовать не рекомендуетсяю,  это очень медленно.\n",
    "    # Лучше использовать векторные операции.\n",
    "    ''' for ii in range(W.shape[0]):\n",
    "    W[ii] -= alpha * (1/n * 2 * np.sum(X[ii] * (y_pred - y))) '''\n",
    "    W -= (alpha * (1 / n * 2 * np.sum(X * (y_pred - y))))\n",
    "    if i % 100 == 0:\n",
    "        print(i, W, err)"
   ]
  },
  {
   "cell_type": "code",
   "execution_count": null,
   "metadata": {},
   "outputs": [],
   "source": []
  }
 ],
 "metadata": {
  "kernelspec": {
   "display_name": "Python 3",
   "language": "python",
   "name": "python3"
  },
  "language_info": {
   "codemirror_mode": {
    "name": "ipython",
    "version": 3
   },
   "file_extension": ".py",
   "mimetype": "text/x-python",
   "name": "python",
   "nbconvert_exporter": "python",
   "pygments_lexer": "ipython3",
   "version": "3.8.5"
  }
 },
 "nbformat": 4,
 "nbformat_minor": 4
}
