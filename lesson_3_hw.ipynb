{
 "cells": [
  {
   "cell_type": "markdown",
   "metadata": {},
   "source": [
    "# Алгоритмы анализа данных"
   ]
  },
  {
   "cell_type": "markdown",
   "metadata": {},
   "source": [
    "__function_name?__ нажать __Ctrl+Enter__.<br>\n",
    "Чтобы посмотреть исходный код - __function_name??__ нажать __Ctrl+Enter__.<br>\n",
    "Как вызвать справку jupyter notebook?\n",
    "https://ru.stackoverflow.com/questions/629610/Как-вызвать-справку-jupyter-notebook"
   ]
  },
  {
   "cell_type": "code",
   "execution_count": 1,
   "metadata": {},
   "outputs": [
    {
     "name": "stdout",
     "output_type": "stream",
     "text": [
      "Object `np.mean` not found.\n"
     ]
    }
   ],
   "source": [
    "# Compute the arithmetic mean (среднее арифметическое) along the specified axis.\n",
    "np.mean?"
   ]
  },
  {
   "cell_type": "code",
   "execution_count": 2,
   "metadata": {},
   "outputs": [
    {
     "name": "stdout",
     "output_type": "stream",
     "text": [
      "Object `np.std` not found.\n"
     ]
    }
   ],
   "source": [
    "# Compute the standard deviation (стандартное отклонение) along the specified axis.\n",
    "np.std??"
   ]
  },
  {
   "cell_type": "markdown",
   "metadata": {},
   "source": [
    "### Урок 3. Логистическая регрессия. Log Loss"
   ]
  },
  {
   "cell_type": "markdown",
   "metadata": {},
   "source": [
    "## <center> Практическое задание </center>"
   ]
  },
  {
   "cell_type": "markdown",
   "metadata": {},
   "source": [
    "__1*.__ Измените функцию calc_logloss так, чтобы нули по возможности не попадали в np.log. \n",
    "\n",
    "__2.__ Подберите аргументы функции eval_model для логистической регрессии таким образом, чтобы log loss был минимальным.\n",
    "\n",
    "__3.__ Создайте функцию calc_pred_proba, возвращающую предсказанную вероятность класса 1 (на вход подаются W, который уже посчитан функцией eval_model и X, на выходе - массив y_pred_proba).\n",
    "\n",
    "__4.__ Создайте функцию calc_pred, возвращающую предсказанный класс (на вход подаются W, который уже посчитан функцией eval_model и X, на выходе - массив y_pred).\n",
    "\n",
    "__5.__ Посчитайте Accuracy, матрицу ошибок, точность и полноту, а также F1 score.\n",
    "\n",
    "__6.__ Могла ли модель переобучиться? Почему?\n",
    "\n",
    "__7*.__ Создайте функции eval_model_l1 и eval_model_l2 с применением L1 и L2 регуляризаций соответственно."
   ]
  },
  {
   "cell_type": "code",
   "execution_count": 3,
   "metadata": {},
   "outputs": [],
   "source": [
    "import numpy as np\n",
    "import matplotlib.pyplot as plt"
   ]
  },
  {
   "cell_type": "code",
   "execution_count": 4,
   "metadata": {},
   "outputs": [],
   "source": [
    "# Матрица признаков\n",
    "X = np.array([[1, 1, 1, 1, 1, 1, 1, 1, 1, 1],\n",
    "              [1, 1, 2, 1, 3, 0, 5, 10, 1, 2],\n",
    "              [500, 700, 750, 600, 1450,\n",
    "               800, 1500, 2000, 450, 1000],\n",
    "              [1, 1, 2, 1, 2, 1, 3, 3, 1, 2]], dtype = np.float64)\n",
    "\n",
    "# Вектор истинных значений\n",
    "y = np.array([0, 0, 1, 0, 1, 0, 1, 0, 1, 1], dtype = np.float64)"
   ]
  },
  {
   "cell_type": "code",
   "execution_count": 5,
   "metadata": {},
   "outputs": [],
   "source": [
    "def sigmoid(z):\n",
    "    '''\n",
    "    Сигмоида 𝜎(<w,x>):ℝ→[0,1]\n",
    "\n",
    "    Функция 𝜎(<w,x>) переводит полученное в скалярном произведении значение ( z = W * X ) \n",
    "    в вероятность, пределы которой будут лежать в промежутке от 0 до 1.\n",
    "    \n",
    "    '''\n",
    "\n",
    "    res = 1 / (1 + np.exp(-z))\n",
    "    return res"
   ]
  },
  {
   "cell_type": "code",
   "execution_count": 6,
   "metadata": {},
   "outputs": [],
   "source": [
    "def calc_std_feat(x):\n",
    "    '''\n",
    "    Масштабирование признаков методом стандартизации\n",
    "    \n",
    "    '''\n",
    "    \n",
    "    res = (x - x.mean()) / x.std()\n",
    "    return res"
   ]
  },
  {
   "cell_type": "code",
   "execution_count": 7,
   "metadata": {},
   "outputs": [],
   "source": [
    "# Масштабируем матрицу признаков\n",
    "X_st = X.copy()\n",
    "X_st[2, :] = calc_std_feat(X[2, :])"
   ]
  },
  {
   "cell_type": "code",
   "execution_count": 8,
   "metadata": {},
   "outputs": [
    {
     "data": {
      "text/plain": [
       "array([[ 1.        ,  1.        ,  1.        ,  1.        ,  1.        ,\n",
       "         1.        ,  1.        ,  1.        ,  1.        ,  1.        ],\n",
       "       [ 1.        ,  1.        ,  2.        ,  1.        ,  3.        ,\n",
       "         0.        ,  5.        , 10.        ,  1.        ,  2.        ],\n",
       "       [-0.97958969, -0.56713087, -0.46401617, -0.77336028,  0.97958969,\n",
       "        -0.36090146,  1.08270439,  2.11385144, -1.08270439,  0.05155735],\n",
       "       [ 1.        ,  1.        ,  2.        ,  1.        ,  2.        ,\n",
       "         1.        ,  3.        ,  3.        ,  1.        ,  2.        ]])"
      ]
     },
     "execution_count": 8,
     "metadata": {},
     "output_type": "execute_result"
    }
   ],
   "source": [
    "X_st"
   ]
  },
  {
   "cell_type": "markdown",
   "metadata": {},
   "source": [
    "### 1*. Задача:\n",
    "Измените функцию calc_logloss так, чтобы нули по возможности не попадали в np.log."
   ]
  },
  {
   "cell_type": "code",
   "execution_count": 9,
   "metadata": {},
   "outputs": [],
   "source": [
    "# Не изменённый вариант функции\n",
    "def calc_logloss(y, y_pred):\n",
    "    '''\n",
    "    Логарифмическая функция потерь\n",
    "    \n",
    "    y - вектор истинных значений\n",
    "    y_pred = P+ вероятность отнесения объекта к классу +1: P(y=1|x)\n",
    "    \n",
    "    '''\n",
    "\n",
    "    err = - np.mean(y * np.log(y_pred) + (1.0 - y) * np.log(1.0 - y_pred))\n",
    "    return err"
   ]
  },
  {
   "cell_type": "markdown",
   "metadata": {},
   "source": [
    "Изменяем функцию calc_logloss так, чтобы нули по возможности не попадали в np.log."
   ]
  },
  {
   "cell_type": "code",
   "execution_count": 10,
   "metadata": {},
   "outputs": [],
   "source": [
    "# Изменённый вариант функции\n",
    "def calc_logloss(y, y_pred):\n",
    "    '''\n",
    "    Логарифмическая функция потерь  (нули не попадают в np.log.)\n",
    "    \n",
    "    y - вектор истинных значений\n",
    "    y_pred = P+ вероятность отнесения объекта к классу +1: P(y=1|x)\n",
    "    \n",
    "    '''\n",
    "    \n",
    "    # Обрабатываем 0 и 1 из вектора вероятностей (0+0.01, 1-0.01).\n",
    "    # Можно проварьировать параметр изменения вероятности.\n",
    "    for i in range(len(y_pred)):\n",
    "        if (y_pred[i] == 0):\n",
    "            y_pred[i] = 1e-2\n",
    "        if (y_pred[i] == 1):\n",
    "            y_pred[i] -= 1e-2\n",
    "\n",
    "    # print(len(y_pred), len(z_y_pred), z_y_pred, z_y)\n",
    "    err = - np.mean(y * np.log(y_pred) + (1.0 - y) * np.log(1.0 - y_pred))\n",
    "    return err"
   ]
  },
  {
   "cell_type": "code",
   "execution_count": 11,
   "metadata": {},
   "outputs": [
    {
     "data": {
      "text/plain": [
       "(array([0., 1.]), array([0. , 0.1]))"
      ]
     },
     "execution_count": 11,
     "metadata": {},
     "output_type": "execute_result"
    }
   ],
   "source": [
    "# Проверка\n",
    "y_1 = np.array([0, 1], dtype = np.float64)\n",
    "y_pred_1 = np.array([0, 0.1], dtype = np.float64)\n",
    "y_1, y_pred_1"
   ]
  },
  {
   "cell_type": "code",
   "execution_count": 12,
   "metadata": {},
   "outputs": [
    {
     "data": {
      "text/plain": [
       "1.1563177144237735"
      ]
     },
     "execution_count": 12,
     "metadata": {},
     "output_type": "execute_result"
    }
   ],
   "source": [
    "calc_logloss(y_1, y_pred_1)"
   ]
  },
  {
   "cell_type": "markdown",
   "metadata": {},
   "source": [
    "### 2. Задача:\n",
    "Подберите аргументы функции eval_model для логистической регрессии таким образом, чтобы log loss был минимальным."
   ]
  },
  {
   "cell_type": "markdown",
   "metadata": {},
   "source": [
    "$\\alpha\\cdot$\n",
    "$\\nabla_wQ(w,X)$"
   ]
  },
  {
   "cell_type": "code",
   "execution_count": 13,
   "metadata": {},
   "outputs": [],
   "source": [
    "### Logistic Regression"
   ]
  },
  {
   "cell_type": "code",
   "execution_count": 14,
   "metadata": {},
   "outputs": [],
   "source": [
    "def eval_model(X, y, iterations, alpha=1e-4):\n",
    "    ''' \n",
    "    Обучаем модель методом градиентного спуска\n",
    "    \n",
    "    iterations - количество итераций (условие прерывания алгоритма)\n",
    "    alpha - скорость обучения\n",
    "    \n",
    "    '''\n",
    "    \n",
    "    # задаем начальные условия для генератора случайных чисел (повторяемость результата).\n",
    "    np.random.seed(42)\n",
    "    \n",
    "    # сгенерируем вектор истинных весов\n",
    "    # возвращаем несколько значений выборки из стандартного нормального распределения (X.shape[0]=4).\n",
    "    W = np.random.randn(X.shape[0])\n",
    "    n = X.shape[1]\n",
    "    \n",
    "    # ход градиентного спуска\n",
    "    for i in range(1, iterations+1):\n",
    "        \n",
    "        # делаем предсказание z=W*X (умножаем вектор W на матрицу признаков X\n",
    "        z = np.dot(W, X)\n",
    "        \n",
    "        # переводим значения z в вероятности (от 0 до 1)\n",
    "        y_pred = sigmoid(z)\n",
    "        \n",
    "        # Вычисляем ошибку на i шаге 𝑄(𝑤,𝑋)\n",
    "        err = calc_logloss(y, y_pred)\n",
    "        \n",
    "        # Вычисляем новое значение вектора весов  W_new = W - 𝛼·∇𝑤(𝑄(𝑤,𝑋))\n",
    "        W -= alpha * (1/n * np.dot((y_pred - y), X.T)) \n",
    "        \n",
    "    if i % (iterations / 10) == 0:\n",
    "        print(f'i={i}, W={W}, err={err:.6f}')\n",
    "\n",
    "    return W"
   ]
  },
  {
   "cell_type": "code",
   "execution_count": 15,
   "metadata": {},
   "outputs": [
    {
     "name": "stdout",
     "output_type": "stream",
     "text": [
      "i=1000, W=[ 0.49282757 -0.15007512  0.64748969  1.51727928], err=1.201313\n",
      "i=10000, W=[ 0.45886981 -0.25439705  0.6453131   1.46695998], err=1.039365\n",
      "i=100000, W=[ 0.25809285 -0.68188567  0.6883469   1.2412009 ], err=0.590673\n"
     ]
    }
   ],
   "source": [
    "# Неизменённая функция calc_logloss(y, y_pred):\n",
    "# W - истинный вектор весов\n",
    "W = eval_model(X_st, y, iterations=1000, alpha=1e-5)\n",
    "W = eval_model(X_st, y, iterations=10000, alpha=1e-5)\n",
    "W = eval_model(X_st, y, iterations=100000, alpha=1e-5)"
   ]
  },
  {
   "cell_type": "code",
   "execution_count": 16,
   "metadata": {},
   "outputs": [
    {
     "name": "stdout",
     "output_type": "stream",
     "text": [
      "i=1000, W=[-2.77136565 -0.99588853  0.56641089  3.26813012], err=0.405878\n",
      "i=10000, W=[-11.27241705  -1.45342424  -2.38315559   9.49424167], err=0.252383\n",
      "i=100000, W=[-35.8933164   -3.59426199  -9.64639296  29.4060647 ], err=0.116671\n"
     ]
    }
   ],
   "source": [
    "W = eval_model(X_st, y, iterations=1000, alpha=1e-1)\n",
    "W = eval_model(X_st, y, iterations=10000, alpha=1e-1)\n",
    "W = eval_model(X_st, y, iterations=100000, alpha=1e-1)"
   ]
  },
  {
   "cell_type": "code",
   "execution_count": 17,
   "metadata": {},
   "outputs": [
    {
     "name": "stdout",
     "output_type": "stream",
     "text": [
      "i=1000, W=[-11.32397854  -1.45756231  -2.39926134   9.53555126], err=0.251910\n",
      "i=10000, W=[-35.907977    -3.59554341  -9.65060282  29.4178451 ], err=0.116635\n",
      "i=100000, W=[-143.31661218  -17.65497665  -32.28077915  127.74350957], err=0.040484\n"
     ]
    }
   ],
   "source": [
    "W = eval_model(X_st, y, iterations=1000, alpha=1)\n",
    "W = eval_model(X_st, y, iterations=10000, alpha=1)\n",
    "W = eval_model(X_st, y, iterations=100000, alpha=1)"
   ]
  },
  {
   "cell_type": "code",
   "execution_count": 53,
   "metadata": {},
   "outputs": [
    {
     "name": "stdout",
     "output_type": "stream",
     "text": [
      "i=1000, W=[-67.20839203  -6.37997719 -18.2521044   54.83753943], err=0.070169\n",
      "i=10000, W=[-181.33758972  -23.14529545  -39.39598481  163.87960615], err=0.033711\n",
      "i=100000, W=[-1311.91153553  -179.12343794  -259.00442698  1215.43684289], err=0.010984\n"
     ]
    }
   ],
   "source": [
    "W = eval_model(X_st, y, iterations=1000, alpha=10)\n",
    "W = eval_model(X_st, y, iterations=10000, alpha=10)\n",
    "W = eval_model(X_st, y, iterations=100000, alpha=10)"
   ]
  },
  {
   "cell_type": "code",
   "execution_count": 52,
   "metadata": {},
   "outputs": [
    {
     "name": "stdout",
     "output_type": "stream",
     "text": [
      "i=1000, W=[-155.6157941   -16.9005628   -39.74544129  134.7052772 ], err=0.118530\n",
      "i=10000, W=[-388.9057345   -51.72962728  -81.01044166  356.53899761], err=0.015253\n",
      "i=100000, W=[-2633.23525331  -362.18637934  -512.8012476   2445.20864538], err=0.009982\n"
     ]
    }
   ],
   "source": [
    "W = eval_model(X_st, y, iterations=1000, alpha=20)\n",
    "W = eval_model(X_st, y, iterations=10000, alpha=20)\n",
    "W = eval_model(X_st, y, iterations=100000, alpha=20)"
   ]
  },
  {
   "cell_type": "markdown",
   "metadata": {},
   "source": [
    "__Вывод__:\n",
    "\n",
    "___log loss минимальный при___:<br>\n",
    "Скорость обучения $\\alpha$=20,<br>\n",
    "Количество итераций __i__=100000,<br>\n",
    "Вектор весов __W__=[-2633.23525331  -362.18637934  -512.8012476   2445.20864538],<br>\n",
    "Ошибка __err__=0.009982\n"
   ]
  },
  {
   "cell_type": "markdown",
   "metadata": {},
   "source": [
    "### 3. Задача:\n",
    "Создайте функцию calc_pred_proba, возвращающую предсказанную вероятность класса 1 (на вход подаются W, который уже посчитан функцией eval_model и X, на выходе - массив y_pred_proba).\n"
   ]
  },
  {
   "cell_type": "code",
   "execution_count": 20,
   "metadata": {},
   "outputs": [],
   "source": [
    " def calc_pred_proba(W, X):\n",
    "    ''' Возвращающую предсказанную вероятность класса 1 '''\n",
    "    \n",
    "    z = np.dot(W, X)\n",
    "    y_pred_proba = sigmoid(z)\n",
    "        \n",
    "    return y_pred_proba"
   ]
  },
  {
   "cell_type": "code",
   "execution_count": 21,
   "metadata": {},
   "outputs": [
    {
     "name": "stderr",
     "output_type": "stream",
     "text": [
      "<ipython-input-5-d60a7b44af67>:10: RuntimeWarning: overflow encountered in exp\n",
      "  res = 1 / (1 + np.exp(-z))\n"
     ]
    },
    {
     "data": {
      "text/plain": [
       "array([2.32546235e-117, 0.00000000e+000, 1.00000000e+000, 0.00000000e+000,\n",
       "       1.00000000e+000, 3.75344497e-002, 1.00000000e+000, 7.88496116e-283,\n",
       "       9.99882708e-001, 1.00000000e+000])"
      ]
     },
     "execution_count": 21,
     "metadata": {},
     "output_type": "execute_result"
    }
   ],
   "source": [
    "calc_pred_proba(W, X_st)"
   ]
  },
  {
   "cell_type": "markdown",
   "metadata": {},
   "source": [
    "### 4. Задача:\n",
    "Создайте функцию calc_pred, возвращающую предсказанный класс (на вход подаются W, который уже посчитан функцией eval_model и X, на выходе - массив y_pred)."
   ]
  },
  {
   "cell_type": "code",
   "execution_count": 22,
   "metadata": {},
   "outputs": [],
   "source": [
    " def calc_pred(W, X, porog):\n",
    "    ''' Возвращающую предсказанную вероятность класса 1 '''\n",
    "    \n",
    "    y_pred = np.array([])\n",
    "    z = np.dot(W, X)\n",
    "    y_pred_proba = sigmoid(z)\n",
    "    \n",
    "    for i in range(len(y_pred_proba)):\n",
    "        if (y_pred_proba[i] > porog):\n",
    "            y_pred = np.append(y_pred, 1)\n",
    "        else:\n",
    "            y_pred = np.append(y_pred, 0)    \n",
    "        \n",
    "    return y_pred"
   ]
  },
  {
   "cell_type": "code",
   "execution_count": 23,
   "metadata": {},
   "outputs": [
    {
     "name": "stderr",
     "output_type": "stream",
     "text": [
      "<ipython-input-5-d60a7b44af67>:10: RuntimeWarning: overflow encountered in exp\n",
      "  res = 1 / (1 + np.exp(-z))\n"
     ]
    },
    {
     "data": {
      "text/plain": [
       "(array([0., 0., 1., 0., 1., 0., 1., 0., 1., 1.]),\n",
       " array([0., 0., 1., 0., 1., 0., 1., 0., 1., 1.]))"
      ]
     },
     "execution_count": 23,
     "metadata": {},
     "output_type": "execute_result"
    }
   ],
   "source": [
    "calc_pred(W, X_st, 0.5), y\n"
   ]
  },
  {
   "cell_type": "markdown",
   "metadata": {},
   "source": [
    "### 5. Задача:\n",
    "Посчитайте Accuracy, матрицу ошибок, точность и полноту, а также F1 score."
   ]
  },
  {
   "cell_type": "code",
   "execution_count": 24,
   "metadata": {},
   "outputs": [
    {
     "name": "stdout",
     "output_type": "stream",
     "text": [
      "i=1000, W=[-2.77136565 -0.99588853  0.56641089  3.26813012], err=0.405878\n"
     ]
    }
   ],
   "source": [
    "# Ради интиреса за основу примем не оптимальную модель\n",
    "W = eval_model(X_st, y, iterations=1000, alpha=1e-1)"
   ]
  },
  {
   "cell_type": "code",
   "execution_count": 25,
   "metadata": {},
   "outputs": [
    {
     "data": {
      "text/plain": [
       "(array([0., 0., 1., 0., 1., 1., 1., 0., 0., 1.]),\n",
       " array([0., 0., 1., 0., 1., 0., 1., 0., 1., 1.]))"
      ]
     },
     "execution_count": 25,
     "metadata": {},
     "output_type": "execute_result"
    }
   ],
   "source": [
    "y_pred = calc_pred(W, X_st, 0.5)\n",
    "y_pred, y"
   ]
  },
  {
   "cell_type": "markdown",
   "metadata": {},
   "source": [
    "__Доля правильных ответов (Accuracy)__:\n",
    "\n",
    "$$accuracy(a,x) = \\frac{1}{l} \\sum^{l}_{i=1}[a(x_{i})=y_{i}].$$\n"
   ]
  },
  {
   "cell_type": "code",
   "execution_count": 26,
   "metadata": {},
   "outputs": [],
   "source": [
    "def calc_accuracy(y, w, x, porog):\n",
    "    ''' \n",
    "    Расчёт доли правильных ответов (accuracy)\n",
    "    \n",
    "    porog - порог отнесения к классу 1\n",
    "    \n",
    "    '''\n",
    "\n",
    "    y_pred = calc_pred(W, X_st, porog)\n",
    "    \n",
    "    k = 0\n",
    "    for i in range(len(y_pred)):\n",
    "        if (y_pred[i] == y[i]):\n",
    "            k += 1\n",
    "            \n",
    "    return k/len(y_pred)"
   ]
  },
  {
   "cell_type": "code",
   "execution_count": 27,
   "metadata": {},
   "outputs": [
    {
     "data": {
      "text/plain": [
       "0.8"
      ]
     },
     "execution_count": 27,
     "metadata": {},
     "output_type": "execute_result"
    }
   ],
   "source": [
    "# В нашем случае у нас есть \n",
    "accuracy = calc_accuracy(y, W, X_st, 0.5)\n",
    "accuracy"
   ]
  },
  {
   "cell_type": "code",
   "execution_count": 28,
   "metadata": {},
   "outputs": [],
   "source": [
    "# Проверка\n",
    "import  sklearn.metrics\n",
    "from sklearn.metrics import accuracy_score"
   ]
  },
  {
   "cell_type": "code",
   "execution_count": 29,
   "metadata": {},
   "outputs": [
    {
     "data": {
      "text/plain": [
       "array([0., 0., 1., 0., 1., 1., 1., 0., 0., 1.])"
      ]
     },
     "execution_count": 29,
     "metadata": {},
     "output_type": "execute_result"
    }
   ],
   "source": [
    "y_pred"
   ]
  },
  {
   "cell_type": "code",
   "execution_count": 30,
   "metadata": {},
   "outputs": [
    {
     "data": {
      "text/plain": [
       "0.8"
      ]
     },
     "execution_count": 30,
     "metadata": {},
     "output_type": "execute_result"
    }
   ],
   "source": [
    "acc = accuracy_score(y, y_pred)\n",
    "acc"
   ]
  },
  {
   "cell_type": "markdown",
   "metadata": {},
   "source": [
    "__Матрица ошибок (Confusion matrix)__<br>\n",
    "\n",
    "|  <empty>   | $$y = +1$$ | $$y = -1$$ |\n",
    "--- | --- | ---\n",
    "| __$$a(x) = +1$$__  |   TP    |   FP   |\n",
    "| __$$a(x) = -1$$__ |   FN    |   TN   |"
   ]
  },
  {
   "cell_type": "code",
   "execution_count": 31,
   "metadata": {},
   "outputs": [],
   "source": [
    "def calc_confusion_matrix(y_true, y_pred):\n",
    "    ''' Вычисляем матрицу ошибок (confusion matrix)\n",
    "    для двух np.arrays true и pred.\n",
    "    Аналог:\n",
    "    \"from sklearn.metrics import confusion_matrix\"\n",
    "    '''\n",
    "\n",
    "    K = len(np.unique(y_true)) # Number of classes \n",
    "    res = np.zeros((K, K))\n",
    "\n",
    "    for i in range(len(y_true)):\n",
    "        res[int(y_true[i])][int(y_pred[i])] += 1\n",
    "\n",
    "    return res"
   ]
  },
  {
   "cell_type": "code",
   "execution_count": 32,
   "metadata": {},
   "outputs": [
    {
     "data": {
      "text/plain": [
       "array([[4., 1.],\n",
       "       [1., 4.]])"
      ]
     },
     "execution_count": 32,
     "metadata": {},
     "output_type": "execute_result"
    }
   ],
   "source": [
    "# Вычисляем матрицу ошибок для нашего случая\n",
    "conf_matrix = calc_confusion_matrix(y, y_pred)\n",
    "conf_matrix"
   ]
  },
  {
   "cell_type": "code",
   "execution_count": 33,
   "metadata": {},
   "outputs": [
    {
     "data": {
      "text/plain": [
       "array([[4, 1],\n",
       "       [1, 4]], dtype=int64)"
      ]
     },
     "execution_count": 33,
     "metadata": {},
     "output_type": "execute_result"
    }
   ],
   "source": [
    "# Проверка\n",
    "from sklearn.metrics import confusion_matrix\n",
    "\n",
    "confusion_matrix(y, y_pred)"
   ]
  },
  {
   "cell_type": "markdown",
   "metadata": {},
   "source": [
    "Результаты совпадают<br><br><br><br>"
   ]
  },
  {
   "cell_type": "markdown",
   "metadata": {},
   "source": [
    "__Точность (Precision)__ - доля истинных срабатываний от общего количества срабатываний.<br>\n",
    "$$precision(a, X) = \\frac{TP}{TP+FP}.$$"
   ]
  },
  {
   "cell_type": "code",
   "execution_count": 34,
   "metadata": {},
   "outputs": [
    {
     "data": {
      "text/plain": [
       "0.8"
      ]
     },
     "execution_count": 34,
     "metadata": {},
     "output_type": "execute_result"
    }
   ],
   "source": [
    "precision = conf_matrix[0][0]/(conf_matrix[0][0] + conf_matrix[0][1])\n",
    "precision"
   ]
  },
  {
   "cell_type": "code",
   "execution_count": 35,
   "metadata": {},
   "outputs": [
    {
     "data": {
      "text/plain": [
       "0.8"
      ]
     },
     "execution_count": 35,
     "metadata": {},
     "output_type": "execute_result"
    }
   ],
   "source": [
    "# Проверка\n",
    "from sklearn.metrics import precision_score\n",
    "\n",
    "precision = precision_score(y, y_pred, pos_label=1)\n",
    "precision"
   ]
  },
  {
   "cell_type": "markdown",
   "metadata": {},
   "source": [
    "__Полнота (Recall)__ - доля объектов, истинно относящихся к классу \"+1\", которые алгоритм отнес к этому классу<br>\n",
    "$$recall(a, X) = \\frac{TP}{TP+FN},$$"
   ]
  },
  {
   "cell_type": "code",
   "execution_count": 36,
   "metadata": {},
   "outputs": [
    {
     "data": {
      "text/plain": [
       "0.8"
      ]
     },
     "execution_count": 36,
     "metadata": {},
     "output_type": "execute_result"
    }
   ],
   "source": [
    "recall = conf_matrix[0][0]/(conf_matrix[0][0] + conf_matrix[1][0])\n",
    "recall"
   ]
  },
  {
   "cell_type": "code",
   "execution_count": 37,
   "metadata": {},
   "outputs": [
    {
     "data": {
      "text/plain": [
       "0.8"
      ]
     },
     "execution_count": 37,
     "metadata": {},
     "output_type": "execute_result"
    }
   ],
   "source": [
    "# Проверка\n",
    "from sklearn.metrics import recall_score\n",
    "\n",
    "recall = recall_score(y, y_pred, pos_label=1)\n",
    "recall"
   ]
  },
  {
   "cell_type": "markdown",
   "metadata": {},
   "source": [
    "__F-мера (F1 score)__\n",
    "$$F = \\frac{2 \\cdot precision \\cdot recall }{ presision + recall}.$$"
   ]
  },
  {
   "cell_type": "code",
   "execution_count": 38,
   "metadata": {},
   "outputs": [
    {
     "data": {
      "text/plain": [
       "0.8000000000000002"
      ]
     },
     "execution_count": 38,
     "metadata": {},
     "output_type": "execute_result"
    }
   ],
   "source": [
    "F = 2*(precision*recall)/(precision + recall)\n",
    "F"
   ]
  },
  {
   "cell_type": "code",
   "execution_count": 39,
   "metadata": {},
   "outputs": [
    {
     "data": {
      "text/plain": [
       "0.8000000000000002"
      ]
     },
     "execution_count": 39,
     "metadata": {},
     "output_type": "execute_result"
    }
   ],
   "source": [
    "# Проверка \n",
    "# sklearn.metrics.f1_score - https://scikit-learn.org/stable/modules/generated/sklearn.metrics.f1_score.html\n",
    "from sklearn.metrics import f1_score\n",
    "\n",
    "f1_score(y, y_pred, average='macro')"
   ]
  },
  {
   "cell_type": "markdown",
   "metadata": {},
   "source": [
    "### 6. Задача:\n",
    " Могла ли модель переобучиться? Почему?"
   ]
  },
  {
   "cell_type": "markdown",
   "metadata": {},
   "source": [
    "Переобучение - модель настроилась на шумы, а не на общие закономерности и тренды."
   ]
  },
  {
   "cell_type": "markdown",
   "metadata": {},
   "source": [
    "### 7*. Задача:\n",
    "Создайте функции eval_model_l1 и eval_model_l2 с применением L1 и L2 регуляризаций соответственно."
   ]
  },
  {
   "cell_type": "markdown",
   "metadata": {},
   "source": [
    "L1-регуляризация способствует разреженности функции, когда лишь немногие факторы не равны нулю.<br>\n",
    "L2-регуляризация способствует появлению малых весовых коэффициентов модели, но не способствует их точному равенству нулю.<br>\n",
    "Оба метода помогают улучшить обобщение и ошибки, поскольку не допускают переобучения модели из-за шума в данных.<br>\n",
    "При L2-регуляризации дополнительный член является квадратичной функцией, при L1-регуляризации – модулем.<br><br>\n",
    "\n",
    "При квадратичном члене, чем ближе вы находитесь к нулю, тем меньшей становится ваша производная, пока также не приблизится к нулю. Поэтому при L2-регуляризации, когда ваша величина w уже мала, дальнейший градиентный спуск уже её сильно не изменит.<br>\n",
    "В случае модуля производная является константой с абсолютной величиной, равной единице. Формально в нуле она не определена, но мы считаем её также равной нулю. Поэтому при L1-регуляризации градиентный спуск будет стремиться к нулю с постоянной скоростью, а достигнув его, там и останется. Вследствие этого L2-регуляризация способствует малой величине весовых коэффициентов, а L1-регуляризация способствует их равенству нулю, тем самым провоцируя разрежённость.\n",
    "\n",
    "Можно включить в свою модель сразу и L1, и L2-регуляризации. Такая модель даже имеет специальное название – __ElasticNet__. \n",
    "Это просто добавление и штрафа L1-регуляризации, и штрафа L2-регуляризации к вашей функции затрат.\n",
    "\n",
    "$$J_{RIDGE} = J + \\lambda_2|w|^2 $$\n",
    "$$J_{LASSO} = J + \\lambda_1|w| $$\n",
    "$$J_{ELASTICNET } = J + \\lambda_1|w| + \\lambda_2|w|^2 $$"
   ]
  },
  {
   "cell_type": "code",
   "execution_count": 40,
   "metadata": {},
   "outputs": [
    {
     "name": "stdout",
     "output_type": "stream",
     "text": [
      "i=1000, W=[ 0.49282757 -0.15007512  0.64748969  1.51727928], err=1.201313\n",
      "i=10000, W=[ 0.45886981 -0.25439705  0.6453131   1.46695998], err=1.039365\n",
      "i=100000, W=[ 0.25809285 -0.68188567  0.6883469   1.2412009 ], err=0.590673\n"
     ]
    }
   ],
   "source": [
    "# W - истинный вектор весов\n",
    "W = eval_model(X_st, y, iterations=1000, alpha=1e-5)\n",
    "W = eval_model(X_st, y, iterations=10000, alpha=1e-5)\n",
    "W = eval_model(X_st, y, iterations=100000, alpha=1e-5)"
   ]
  },
  {
   "cell_type": "code",
   "execution_count": 41,
   "metadata": {},
   "outputs": [],
   "source": [
    "# Returns an element-wise indication of the sign of a number.\n",
    "# Функция sign(x) возвращает единицу, если x>0,  минус единицу, если x<0, и нуль, если x=0.\n",
    "# np.sign?? "
   ]
  },
  {
   "cell_type": "code",
   "execution_count": 42,
   "metadata": {},
   "outputs": [],
   "source": [
    "def eval_model_l1(X, y, iterations, alpha=1e-4):\n",
    "    ''' \n",
    "    Градиентный спуск\n",
    "    L1-регуляризация\n",
    "    \n",
    "    iterations - количество итераций (условие прерывания алгоритма)\n",
    "    alpha - скорость обучения\n",
    "    \n",
    "    '''\n",
    "    \n",
    "    # задаем начальные условия для генератора случайных чисел (повторяемость результата).\n",
    "    np.random.seed(42)\n",
    "    \n",
    "    # сгенерируем вектор истинных весов\n",
    "    # возвращаем несколько значений выборки из стандартного нормального распределения (X.shape[0]=4).\n",
    "    W = np.random.randn(X.shape[0])\n",
    "    n = X.shape[1]\n",
    "    \n",
    "    # ход градиентного спуска\n",
    "    for i in range(1, iterations+1):\n",
    "        \n",
    "        # делаем предсказание z=W*X (умножаем вектор W на матрицу признаков X\n",
    "        z = np.dot(W, X)\n",
    "        \n",
    "        # переводим значения z в вероятности (от 0 до 1)\n",
    "        y_pred = sigmoid(z)\n",
    "        \n",
    "        # Вычисляем ошибку на i шаге 𝑄(𝑤,𝑋)\n",
    "        err = calc_logloss(y, y_pred)\n",
    "        \n",
    "        # Вычисляем новое значение вектора весов (l2-регуляризация) W_new = W - 𝛼·∇𝑤(𝑄(𝑤,𝑋)) + lambda*|W|\n",
    "        W -= alpha * (1/n * np.dot((y_pred - y), X.T) + 2*np.sign(W)) \n",
    "        \n",
    "    if i % (iterations / 10) == 0:\n",
    "        print(f'i={i}, W={W}, err={err:.6f}')\n",
    "\n",
    "    return W"
   ]
  },
  {
   "cell_type": "code",
   "execution_count": 43,
   "metadata": {},
   "outputs": [
    {
     "name": "stdout",
     "output_type": "stream",
     "text": [
      "i=1000, W=[ 0.4728311  -0.13007488  0.627488    1.49728315], err=1.205278\n",
      "i=10000, W=[ 0.25925794 -0.05452568  0.44509247  1.26736528], err=1.080879\n",
      "i=100000, W=[ 3.74206502e-06  7.41569932e-06 -1.41768584e-05 -6.88292739e-06], err=0.693145\n"
     ]
    }
   ],
   "source": [
    "# W - истинный вектор весов\n",
    "W = eval_model_l1(X_st, y, iterations=1000, alpha=1e-5)\n",
    "W = eval_model_l1(X_st, y, iterations=10000, alpha=1e-5)\n",
    "W = eval_model_l1(X_st, y, iterations=100000, alpha=1e-5)"
   ]
  },
  {
   "cell_type": "code",
   "execution_count": 44,
   "metadata": {},
   "outputs": [],
   "source": [
    "def eval_model_l2(X, y, iterations, alpha=1e-4):\n",
    "    ''' \n",
    "    Градиентный спуск\n",
    "    L2-регуляризация\n",
    "    \n",
    "    iterations - количество итераций (условие прерывания алгоритма)\n",
    "    alpha - скорость обучения\n",
    "    \n",
    "    '''\n",
    "    \n",
    "    # задаем начальные условия для генератора случайных чисел (повторяемость результата).\n",
    "    np.random.seed(42)\n",
    "    \n",
    "    # сгенерируем вектор истинных весов\n",
    "    # возвращаем несколько значений выборки из стандартного нормального распределения (X.shape[0]=4).\n",
    "    W = np.random.randn(X.shape[0])\n",
    "    n = X.shape[1]\n",
    "    \n",
    "    # ход градиентного спуска\n",
    "    for i in range(1, iterations+1):\n",
    "        \n",
    "        # делаем предсказание z=W*X (умножаем вектор W на матрицу признаков X\n",
    "        z = np.dot(W, X)\n",
    "        \n",
    "        # переводим значения z в вероятности (от 0 до 1)\n",
    "        y_pred = sigmoid(z)\n",
    "        \n",
    "        # Вычисляем ошибку на i шаге 𝑄(𝑤,𝑋)\n",
    "        err = calc_logloss(y, y_pred)\n",
    "        \n",
    "        # Вычисляем новое значение вектора весов (l2-регуляризация) W_new = W - 𝛼·∇𝑤(𝑄(𝑤,𝑋)) + lambda*W \n",
    "        W -= alpha * (1/n * np.dot((y_pred - y), X.T) + 0.1*W) \n",
    "        \n",
    "    if i % (iterations / 10) == 0:\n",
    "        print(f'i={i}, W={W}, err={err:.6f}')\n",
    "\n",
    "    return W"
   ]
  },
  {
   "cell_type": "code",
   "execution_count": 45,
   "metadata": {},
   "outputs": [
    {
     "name": "stdout",
     "output_type": "stream",
     "text": [
      "i=1000, W=[ 0.4923338  -0.14992995  0.64684208  1.51576088], err=1.200410\n",
      "i=10000, W=[ 0.45419937 -0.25229978  0.63885105  1.45220195], err=1.031865\n",
      "i=100000, W=[ 0.23185286 -0.61912998  0.62525208  1.12672326], err=0.590607\n"
     ]
    }
   ],
   "source": [
    "# W - истинный вектор весов\n",
    "W = eval_model_l2(X_st, y, iterations=1000, alpha=1e-5)\n",
    "W = eval_model_l2(X_st, y, iterations=10000, alpha=1e-5)\n",
    "W = eval_model_l2(X_st, y, iterations=100000, alpha=1e-5)"
   ]
  },
  {
   "cell_type": "code",
   "execution_count": null,
   "metadata": {},
   "outputs": [],
   "source": []
  },
  {
   "cell_type": "code",
   "execution_count": null,
   "metadata": {},
   "outputs": [],
   "source": []
  },
  {
   "cell_type": "code",
   "execution_count": null,
   "metadata": {},
   "outputs": [],
   "source": []
  },
  {
   "cell_type": "code",
   "execution_count": null,
   "metadata": {},
   "outputs": [],
   "source": []
  },
  {
   "cell_type": "code",
   "execution_count": null,
   "metadata": {},
   "outputs": [],
   "source": []
  },
  {
   "cell_type": "code",
   "execution_count": null,
   "metadata": {},
   "outputs": [],
   "source": []
  },
  {
   "cell_type": "code",
   "execution_count": null,
   "metadata": {},
   "outputs": [],
   "source": []
  },
  {
   "cell_type": "code",
   "execution_count": null,
   "metadata": {},
   "outputs": [],
   "source": []
  },
  {
   "cell_type": "markdown",
   "metadata": {},
   "source": [
    "L1 и L2-регуляризация для логистической регрессии - https://craftappmobile.com/l1-и-l2-регуляризация-для-логистической-регрессии<br>\n",
    "Обучение логистической регрессии - https://vc.ru/dev/72964-obuchenie-logisticheskoy-regressii"
   ]
  },
  {
   "cell_type": "markdown",
   "metadata": {},
   "source": [
    "Как написать матрицу путаницы в Python? - https://coderoad.ru/2148543/Как-написать-матрицу-путаницы-в-Python<br>\n",
    "Оценка моделей ML/DL: матрица ошибок, Accuracy, Precision и Recall - https://pythonru.com/baza-znanij/metriki-accuracy-precision-i-recall"
   ]
  },
  {
   "cell_type": "code",
   "execution_count": 46,
   "metadata": {},
   "outputs": [
    {
     "data": {
      "text/plain": [
       "(Predicted  0  1  2  All\n",
       " Actual                 \n",
       " 0          3  0  0    3\n",
       " 1          0  1  2    3\n",
       " 2          2  1  3    6\n",
       " All        5  2  5   12,\n",
       " (Predicted  0  1  2\n",
       "  Actual            \n",
       "  0          3  0  0\n",
       "  1          0  1  2\n",
       "  2          2  1  3,))"
      ]
     },
     "execution_count": 46,
     "metadata": {},
     "output_type": "execute_result"
    }
   ],
   "source": [
    "import pandas as pd\n",
    "y_actu = pd.Series([2, 0, 2, 2, 0, 1, 1, 2, 2, 0, 1, 2], name='Actual')\n",
    "y_pred = pd.Series([0, 0, 2, 1, 0, 2, 1, 0, 2, 0, 2, 2], name='Predicted')\n",
    "df_confusion_1 = pd.crosstab(y_actu, y_pred), \n",
    "df_confusion = pd.crosstab(y_actu, y_pred, rownames=['Actual'], colnames=['Predicted'], margins=True)\n",
    "df_confusion, df_confusion_1"
   ]
  },
  {
   "cell_type": "code",
   "execution_count": 47,
   "metadata": {},
   "outputs": [
    {
     "data": {
      "text/html": [
       "<div>\n",
       "<style scoped>\n",
       "    .dataframe tbody tr th:only-of-type {\n",
       "        vertical-align: middle;\n",
       "    }\n",
       "\n",
       "    .dataframe tbody tr th {\n",
       "        vertical-align: top;\n",
       "    }\n",
       "\n",
       "    .dataframe thead th {\n",
       "        text-align: right;\n",
       "    }\n",
       "</style>\n",
       "<table border=\"1\" class=\"dataframe\">\n",
       "  <thead>\n",
       "    <tr style=\"text-align: right;\">\n",
       "      <th>Predicted</th>\n",
       "      <th>0</th>\n",
       "      <th>1</th>\n",
       "      <th>2</th>\n",
       "      <th>All</th>\n",
       "    </tr>\n",
       "    <tr>\n",
       "      <th>Actual</th>\n",
       "      <th></th>\n",
       "      <th></th>\n",
       "      <th></th>\n",
       "      <th></th>\n",
       "    </tr>\n",
       "  </thead>\n",
       "  <tbody>\n",
       "    <tr>\n",
       "      <th>0</th>\n",
       "      <td>0.500000</td>\n",
       "      <td>0.000000</td>\n",
       "      <td>0.000000</td>\n",
       "      <td>0.125</td>\n",
       "    </tr>\n",
       "    <tr>\n",
       "      <th>1</th>\n",
       "      <td>0.000000</td>\n",
       "      <td>0.166667</td>\n",
       "      <td>0.166667</td>\n",
       "      <td>0.125</td>\n",
       "    </tr>\n",
       "    <tr>\n",
       "      <th>2</th>\n",
       "      <td>0.333333</td>\n",
       "      <td>0.166667</td>\n",
       "      <td>0.250000</td>\n",
       "      <td>0.250</td>\n",
       "    </tr>\n",
       "    <tr>\n",
       "      <th>All</th>\n",
       "      <td>0.833333</td>\n",
       "      <td>0.333333</td>\n",
       "      <td>0.416667</td>\n",
       "      <td>0.500</td>\n",
       "    </tr>\n",
       "  </tbody>\n",
       "</table>\n",
       "</div>"
      ],
      "text/plain": [
       "Predicted         0         1         2    All\n",
       "Actual                                        \n",
       "0          0.500000  0.000000  0.000000  0.125\n",
       "1          0.000000  0.166667  0.166667  0.125\n",
       "2          0.333333  0.166667  0.250000  0.250\n",
       "All        0.833333  0.333333  0.416667  0.500"
      ]
     },
     "execution_count": 47,
     "metadata": {},
     "output_type": "execute_result"
    }
   ],
   "source": [
    "#Вы также можете получить нормализованную матрицу путаницы, используя:\n",
    "\n",
    "df_conf_norm = df_confusion / df_confusion.sum(axis=1)\n",
    "df_conf_norm"
   ]
  },
  {
   "cell_type": "code",
   "execution_count": 48,
   "metadata": {},
   "outputs": [
    {
     "data": {
      "image/png": "[encoded data removed]",
      "text/plain": [
       "<Figure size 288x288 with 2 Axes>"
      ]
     },
     "metadata": {
      "needs_background": "light"
     },
     "output_type": "display_data"
    }
   ],
   "source": [
    "# Вы можете построить эту confusion_matrix с помощью\n",
    "\n",
    "import matplotlib.pyplot as plt\n",
    "def plot_confusion_matrix(df_confusion, title='Confusion matrix', cmap=plt.cm.gray_r):\n",
    "    plt.matshow(df_confusion, cmap=cmap) # imshow\n",
    "    #plt.title(title)\n",
    "    plt.colorbar()\n",
    "    tick_marks = np.arange(len(df_confusion.columns))\n",
    "    plt.xticks(tick_marks, df_confusion.columns, rotation=45)\n",
    "    plt.yticks(tick_marks, df_confusion.index)\n",
    "    #plt.tight_layout()\n",
    "    plt.ylabel(df_confusion.index.name)\n",
    "    plt.xlabel(df_confusion.columns.name)\n",
    "\n",
    "plot_confusion_matrix(df_confusion)"
   ]
  },
  {
   "cell_type": "code",
   "execution_count": 49,
   "metadata": {},
   "outputs": [
    {
     "data": {
      "image/png": "[encoded data removed]",
      "text/plain": [
       "<Figure size 288x288 with 2 Axes>"
      ]
     },
     "metadata": {
      "needs_background": "light"
     },
     "output_type": "display_data"
    }
   ],
   "source": [
    "plot_confusion_matrix(df_conf_norm)  "
   ]
  },
  {
   "cell_type": "code",
   "execution_count": null,
   "metadata": {},
   "outputs": [],
   "source": []
  }
 ],
 "metadata": {
  "kernelspec": {
   "display_name": "Python 3",
   "language": "python",
   "name": "python3"
  },
  "language_info": {
   "codemirror_mode": {
    "name": "ipython",
    "version": 3
   },
   "file_extension": ".py",
   "mimetype": "text/x-python",
   "name": "python",
   "nbconvert_exporter": "python",
   "pygments_lexer": "ipython3",
   "version": "3.8.5"
  }
 },
 "nbformat": 4,
 "nbformat_minor": 4
}
