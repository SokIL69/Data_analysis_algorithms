{
 "cells": [
  {
   "cell_type": "markdown",
   "metadata": {},
   "source": [
    "# Алгоритмы анализа данных"
   ]
  },
  {
   "cell_type": "markdown",
   "metadata": {},
   "source": [
    "### Урок 6. Градиентный бустинг (AdaBoost)"
   ]
  },
  {
   "cell_type": "markdown",
   "metadata": {},
   "source": [
    "## <center> Практическое задание </center>"
   ]
  },
  {
   "cell_type": "markdown",
   "metadata": {},
   "source": [
    "__Задание 1:__ Для реализованной в методичке модели градиентного бустинга построить графики зависимости ошибки от количества деревьев в ансамбле и от максимальной глубины деревьев. Сделать выводы о зависимости ошибки от этих параметров.\n",
    "\n",
    "__Задание 2: (опция).__ Модифицировать реализованный алгоритм, чтобы получился стохастический градиентный бустинг. Размер подвыборки принять равным 0.5. Сравнить на одном графике кривые изменения ошибки на тестовой выборке в зависимости от числа итераций.\n",
    "\n",
    "__Задание 3: (опция).__ Реализовать алгоритм градиетного бустинга, основанный на реализации решающего дерева из ДЗ4 / методички к уроку 4. Сделать выводы о качестве алгоритма по сравнению с реализацией из п.1."
   ]
  },
  {
   "cell_type": "markdown",
   "metadata": {},
   "source": [
    "## Реализация алгоритма градиентного бустинга (GBM)"
   ]
  },
  {
   "cell_type": "markdown",
   "metadata": {},
   "source": [
    "Возьмем готовую реализацию дерева решений для регрессии из библиотеки sklearn."
   ]
  },
  {
   "cell_type": "code",
   "execution_count": 1,
   "metadata": {},
   "outputs": [],
   "source": [
    "from sklearn.tree import DecisionTreeRegressor\n",
    "\n",
    "from sklearn import model_selection\n",
    "import numpy as np"
   ]
  },
  {
   "cell_type": "markdown",
   "metadata": {},
   "source": [
    "Используем один из датасет из sklearn.datasets."
   ]
  },
  {
   "cell_type": "code",
   "execution_count": 2,
   "metadata": {},
   "outputs": [],
   "source": [
    "from sklearn.datasets import load_diabetes"
   ]
  },
  {
   "cell_type": "code",
   "execution_count": 3,
   "metadata": {},
   "outputs": [],
   "source": [
    "X, y = load_diabetes(return_X_y=True)"
   ]
  },
  {
   "cell_type": "markdown",
   "metadata": {},
   "source": [
    "Разделим выборку на обучающую и тестовую в соотношении 75/25."
   ]
  },
  {
   "cell_type": "code",
   "execution_count": 4,
   "metadata": {},
   "outputs": [],
   "source": [
    "X_train, X_test, y_train, y_test = model_selection.train_test_split(\n",
    "    X, y, test_size=0.25\n",
    ")\n"
   ]
  },
  {
   "cell_type": "markdown",
   "metadata": {},
   "source": [
    " Функцию, реализующая предсказание в градиентном бустинге."
   ]
  },
  {
   "cell_type": "code",
   "execution_count": 5,
   "metadata": {},
   "outputs": [],
   "source": [
    "def gb_predict(X, trees_list, coef_list, eta):\n",
    "    # coef_list - коэффициент  𝛾  для найденного алгоритма\n",
    "    # Реализуемый алгоритм градиентного бустинга будет инициализироваться нулевыми значениями,\n",
    "    # поэтому все деревья из списка trees_list уже являются дополнительными и при предсказании прибавляются с шагом eta\n",
    "    return np.array([sum([eta* coef * alg.predict([x])[0] for alg, coef in zip(trees_list, coef_list)]) for x in X])"
   ]
  },
  {
   "cell_type": "markdown",
   "metadata": {},
   "source": [
    "# "
   ]
  },
  {
   "cell_type": "markdown",
   "metadata": {},
   "source": [
    "Основной способ измерить отклонение - посчитать квадрат разности $Q(a,y)=(a(x)-y)^{2}$. Такая функция является гладкой и имеет производную в каждой точке, а ее минимум достигается при равенстве истинного ответа $y$ и прогноза $a(x)$.\n",
    "\n",
    "Основанный на этой функции <u>функционал ошибки</u> называется ___среднеквадратичным отклонением___ (mean squared error, ___MSE___):\n",
    "\n",
    "$$Q(a,x) = \\frac{1}{l}\\sum^{l}_{i=1}(a(x_{i})-y_{i})^{2}.$$\n",
    "\n",
    "\n",
    "Другой функционал ошибки называется ___средний модуль отклонения___ (mean absolute error, ___MAE___):\n",
    "$$\\displaystyle MAE = \\frac{1}{l} \\sum_{i=1}^{l}|y_{i}-\\hat{y_i}|.$$"
   ]
  },
  {
   "cell_type": "markdown",
   "metadata": {},
   "source": [
    "В качестве функционала ошибки будем использовать среднеквадратичную ошибку."
   ]
  },
  {
   "cell_type": "code",
   "execution_count": 6,
   "metadata": {},
   "outputs": [],
   "source": [
    "# Cреднеквадратичное отклонение (mean squared error, MSE):\n",
    "def mean_squared_error(y_real, prediction):\n",
    "    return (sum((y_real - prediction)**2)) / len(y_real)"
   ]
  },
  {
   "cell_type": "markdown",
   "metadata": {},
   "source": [
    "## "
   ]
  },
  {
   "cell_type": "markdown",
   "metadata": {},
   "source": [
    "Используем $L_{2}$ loss $L(y, z) = (y-z)^{2},$ ее производная по $z$ примет вид $L'(y, z) = 2(z-y)$. Реализуем ее также в виде функции (коэффициент 2 можно отбросить)."
   ]
  },
  {
   "cell_type": "code",
   "execution_count": 7,
   "metadata": {},
   "outputs": [],
   "source": [
    "def bias(y, z):\n",
    "    # Производная функции потерь\n",
    "    \n",
    "    return (y - z)"
   ]
  },
  {
   "cell_type": "markdown",
   "metadata": {},
   "source": [
    "Реализуем функцию обучения градиентного бустинга."
   ]
  },
  {
   "cell_type": "code",
   "execution_count": 26,
   "metadata": {},
   "outputs": [],
   "source": [
    "def gb_fit(n_trees, max_depth, X_train, X_test, y_train, y_test, coefs, eta):\n",
    "    \"\"\"\n",
    "    Функция обучения градиентного бустинга.\n",
    "\n",
    "    Parameters\n",
    "    ----------\n",
    "    n_trees:\n",
    "        Количество деревьев?.\n",
    "\n",
    "    max_depth: int\n",
    "        Max-я глубина дерева.\n",
    "        \n",
    "    X_train, X_test, y_train, y_test,\n",
    "    \n",
    "    coefs:\n",
    "        коэффициенты  𝛾  для алгоритма\n",
    "    \n",
    "    eta: int\n",
    "        Шаг.\n",
    "\n",
    "    Returns\n",
    "    -------\n",
    "    trees: DecisionTreeRegressor\n",
    "    \n",
    "    train_errors: float\n",
    "                \n",
    "    test_errors: float\n",
    "    \n",
    "    \"\"\"\n",
    "    \n",
    "    # Деревья будем записывать в список\n",
    "    trees = []\n",
    "    \n",
    "    # Будем записывать ошибки на обучающей и тестовой выборке на каждой итерации в список\n",
    "    train_errors = []\n",
    "    test_errors = []\n",
    "    \n",
    "    for i in range(n_trees):\n",
    "        tree = DecisionTreeRegressor(max_depth=max_depth, random_state=42)  # A decision tree regressor\n",
    "\n",
    "        # инициализируем бустинг начальным алгоритмом, возвращающим ноль, \n",
    "        # поэтому первый алгоритм просто обучаем на выборке и добавляем в список\n",
    "        if len(trees) == 0:\n",
    "            # обучаем первое дерево на обучающей выборке\n",
    "            tree.fit(X_train, y_train)\n",
    "            \n",
    "            train_errors.append(mean_squared_error(y_train, gb_predict(X_train, trees, coefs, eta)))\n",
    "            test_errors.append(mean_squared_error(y_test, gb_predict(X_test, trees, coefs, eta)))\n",
    "        else:\n",
    "            # Получим ответы на текущей композиции\n",
    "            y_pred = gb_predict(X_train, trees, coefs, eta)\n",
    "            target = bias(y_train, y_pred)\n",
    "            \n",
    "            # алгоритмы начиная со второго обучаем на сдвиг\n",
    "            tree.fit(X_train, target)\n",
    "            \n",
    "            train_errors.append(mean_squared_error(y_train, gb_predict(X_train, trees, coefs, eta)))\n",
    "            test_errors.append(mean_squared_error(y_test, gb_predict(X_test, trees, coefs, eta)))\n",
    "\n",
    "        trees.append(tree)\n",
    "\n",
    "    return trees, train_errors, test_errors"
   ]
  },
  {
   "cell_type": "code",
   "execution_count": null,
   "metadata": {},
   "outputs": [],
   "source": []
  },
  {
   "cell_type": "markdown",
   "metadata": {},
   "source": [
    "__Регрессор__ - фактор, независимая переменная $x_i$\n",
    "\n",
    "По умолчанию scikit-learn DecisionTreeRegressor возвращает среднее значение всех целевых значений из набора тренировок в данном листовом узле."
   ]
  },
  {
   "cell_type": "markdown",
   "metadata": {},
   "source": [
    "Теперь обучим несколько моделей с разными параметрами и исследуем их поведение."
   ]
  },
  {
   "cell_type": "code",
   "execution_count": 9,
   "metadata": {},
   "outputs": [],
   "source": [
    "# Число деревьев в ансамбле\n",
    "n_trees = 10\n",
    "\n",
    "# для простоты примем коэффициенты равными 1\n",
    "coefs = [1] * n_trees\n",
    "\n",
    "# Максимальная глубина деревьев\n",
    "max_depth = 3\n",
    "\n",
    "# Шаг\n",
    "eta = 1\n",
    "\n",
    "trees, train_errors, test_errors = gb_fit(n_trees, max_depth, X_train, X_test, y_train, y_test, coefs, eta)"
   ]
  },
  {
   "cell_type": "code",
   "execution_count": 10,
   "metadata": {},
   "outputs": [],
   "source": [
    "def evaluate_alg(X_train, X_test, y_train, y_test, trees, coefs, eta):\n",
    "    train_prediction = gb_predict(X_train, trees, coefs, eta)\n",
    "\n",
    "    print(f'Ошибка алгоритма из {n_trees} деревьев глубиной {max_depth} \\\n",
    "    с шагом {eta} на тренировочной выборке: {mean_squared_error(y_train, train_prediction)}')\n",
    "\n",
    "    test_prediction = gb_predict(X_test, trees, coefs, eta)\n",
    "\n",
    "    print(f'Ошибка алгоритма из {n_trees} деревьев глубиной {max_depth} \\\n",
    "    с шагом {eta} на тестовой выборке: {mean_squared_error(y_test, test_prediction)}')"
   ]
  },
  {
   "cell_type": "code",
   "execution_count": 11,
   "metadata": {},
   "outputs": [
    {
     "data": {
      "text/plain": [
       "(153.71601208459214, 147.4144144144144)"
      ]
     },
     "execution_count": 11,
     "metadata": {},
     "output_type": "execute_result"
    }
   ],
   "source": [
    "np.mean(y_train), np.mean(y_test)"
   ]
  },
  {
   "cell_type": "code",
   "execution_count": 12,
   "metadata": {},
   "outputs": [
    {
     "name": "stdout",
     "output_type": "stream",
     "text": [
      "Ошибка алгоритма из 10 деревьев глубиной 3     с шагом 1 на тренировочной выборке: 948.6241544105945\n",
      "Ошибка алгоритма из 10 деревьев глубиной 3     с шагом 1 на тестовой выборке: 5506.027949331994\n"
     ]
    }
   ],
   "source": [
    "evaluate_alg(X_train, X_test, y_train, y_test, trees, coefs, eta)"
   ]
  },
  {
   "cell_type": "markdown",
   "metadata": {},
   "source": [
    "Построим графики зависимости ошибки на обучающей и тестовой выборках __от числа итераций__."
   ]
  },
  {
   "cell_type": "code",
   "execution_count": 13,
   "metadata": {},
   "outputs": [],
   "source": [
    "import matplotlib.pyplot as plt"
   ]
  },
  {
   "cell_type": "code",
   "execution_count": 14,
   "metadata": {},
   "outputs": [],
   "source": [
    "def get_error_plot(n_trees, train_err, test_err):\n",
    "    plt.xlabel('Iteration number')\n",
    "    plt.ylabel('MSE')\n",
    "    plt.xlim(0, n_trees)\n",
    "    plt.plot(list(range(n_trees)), train_err, label='train error')\n",
    "    plt.plot(list(range(n_trees)), test_err, label='test error')\n",
    "    plt.legend(loc='upper right')\n",
    "    plt.show()"
   ]
  },
  {
   "cell_type": "code",
   "execution_count": 15,
   "metadata": {},
   "outputs": [],
   "source": [
    "# Число деревьев в ансамбле\n",
    "n_trees = 10\n",
    "\n",
    "# для простоты примем коэффициенты равными 1\n",
    "coefs = [1] * n_trees\n",
    "\n",
    "# Максимальная глубина деревьев\n",
    "max_depth = 3\n",
    "\n",
    "# Шаг\n",
    "eta = 1\n",
    "\n",
    "trees, train_errors, test_errors = gb_fit(n_trees, max_depth, X_train, X_test, y_train, y_test, coefs, eta)"
   ]
  },
  {
   "cell_type": "code",
   "execution_count": null,
   "metadata": {},
   "outputs": [],
   "source": []
  },
  {
   "cell_type": "markdown",
   "metadata": {},
   "source": [
    "𝐿1 -регуляризация также называется Lasso,  𝐿2 -регуляризация иногда называется Ridge."
   ]
  },
  {
   "cell_type": "markdown",
   "metadata": {},
   "source": [
    "### 1. Задача:\n",
    "\n",
    "- Для реализованной в методичке модели градиентного бустинга построить графики зависимости ошибки:\n",
    "    - от количества деревьев в ансамбле\n",
    "    - от максимальной глубины деревьев.\n",
    "- Сделать выводы о зависимости ошибки от этих параметров."
   ]
  },
  {
   "cell_type": "markdown",
   "metadata": {},
   "source": [
    "__1.1__ Для реализованной в методичке модели градиентного бустинга построить графики зависимости ошибки от количества деревьев в ансамбле.\n",
    "\n",
    "n_trees - Число деревьев в ансамбле<br><br>\n",
    "\n",
    "Учитывая, что:\n",
    "\n",
    "test_errors при n_trees = 3:<br>\n",
    "[26245.162162162163, 4460.878084340738, 4460.69950578709]<br><br>\n",
    "test_errors при n_trees = 5:<br>\n",
    "[26245.162162162163, 4460.878084340738, 4460.69950578709, 5011.208153952112, 5269.248536676613]<br><br>\n",
    "test_errors при n_trees = 10:<br>\n",
    "[26245.162162162163, 4460.878084340738, 4460.69950578709, 5011.208153952112, 5269.248536676613,<br>\n",
    " 5272.129182317965, 5523.038370524697, 5506.901730442979, 5619.71525862455, 5661.500288268941]\n",
    " \n",
    " Видно, что каждая итерация функции  __gb_fit()__, соответствует максимальному числу деревьев в ансамбле, [1,2,3, ..., 10] соответственно.\n",
    " \n",
    " \n",
    " С учётом этого напишем функцию построения графика зависимости ошибки от количества деревьев в ансамбле."
   ]
  },
  {
   "cell_type": "code",
   "execution_count": 16,
   "metadata": {},
   "outputs": [],
   "source": [
    "# Graph of error versus number of trees in ensemble\n",
    "def get_error_plot(n_trees, train_err, test_err):\n",
    "    # n_trees - Число деревьев в ансамбле\n",
    "    \n",
    "    plt.xlabel('Число деревьев в ансамбле')\n",
    "    plt.ylabel('MSE')\n",
    "    plt.xlim(0, n_trees)\n",
    "    plt.plot(list(range(n_trees)), train_err, label='train error')\n",
    "    plt.plot(list(range(n_trees)), test_err, label='test error')\n",
    "    plt.legend(loc='upper right')\n",
    "    plt.show()"
   ]
  },
  {
   "cell_type": "code",
   "execution_count": 17,
   "metadata": {
    "scrolled": false
   },
   "outputs": [
    {
     "data": {
      "image/png": "[encoded data removed]",
      "text/plain": [
       "<Figure size 432x288 with 1 Axes>"
      ]
     },
     "metadata": {
      "needs_background": "light"
     },
     "output_type": "display_data"
    },
    {
     "name": "stdout",
     "output_type": "stream",
     "text": [
      "      \t train_errors \t\t test_errors\n",
      "____________________________________________________\n",
      "шаг 1 | 2846.220580659837 \t 4051.2686948392234\n",
      "шаг 2 | 2360.129106336383 \t 4789.12822335856\n",
      "шаг 3 | 2072.184630606552 \t 5072.530685789605\n"
     ]
    }
   ],
   "source": [
    "get_error_plot(n_trees, train_errors, test_errors)\n",
    "print(f'      \\t train_errors \\t\\t test_errors')\n",
    "print('_'*52)\n",
    "print('шаг 1 |', train_errors[1], '\\t', test_errors[1])\n",
    "print('шаг 2 |', train_errors[2], '\\t', test_errors[2])\n",
    "print('шаг 3 |', train_errors[3], '\\t', test_errors[3])"
   ]
  },
  {
   "cell_type": "markdown",
   "metadata": {},
   "source": [
    "__Вывод:__\n",
    "\n",
    "__1.1__\n",
    "Из графика и значений ошибок видно, что резгий изгиб графика происходит на 1 шаге (число деревьев в ансамбле n_trees = 2), _при постоянных остальных критериях (максимальная глубина деревьев\n",
    "max_depth = 3, коэффициенты: coefs = 1 и Шаг: eta = 1)_.<br>\n",
    "\n",
    "\n",
    "       train_errors \t  test_errors\n",
    "шаг 1 | 2839.667157109237&nbsp;&nbsp;&nbsp;&nbsp;&nbsp; \t 3808.8682065553307<br>\n",
    "шаг 2 | 2514.1926774245494&nbsp;&nbsp;&nbsp;&nbsp;4066.054971603613<br>\n",
    "шаг 3 | 2126.795417740424&nbsp;&nbsp;&nbsp;&nbsp;&nbsp; \t 4394.533263486755<br>\n",
    "\n",
    "\n",
    "Далее при увеличении числа деревьев в ансамбле n_trees (n_trees > 2), ошибка на трейне продолжает уменьшаться, но на тесте начинает расти.\n",
    "\n",
    "Исходя из этого заключаем, что в данном конкретном случае, при увеличении числа деревьев в ансамбле n_trees > 2, модель переобучается (при заданных, постоянных остальных критериях)."
   ]
  },
  {
   "cell_type": "markdown",
   "metadata": {},
   "source": [
    "# "
   ]
  },
  {
   "cell_type": "markdown",
   "metadata": {},
   "source": [
    "__1.2__ Для реализованной в методичке модели градиентного бустинга построить графики зависимости ошибки от максимальной глубины деревьев.\n"
   ]
  },
  {
   "cell_type": "code",
   "execution_count": 18,
   "metadata": {},
   "outputs": [],
   "source": [
    "# Graph of error dependence on maximum tree depth\n",
    "def get_error_plot(n_trees, train_err, test_err, max_depth):\n",
    "    label_txt = 'Iteration number\\nМаксимальная глубина деревьев=' + str(max_depth)\n",
    "    plt.xlabel(label_txt)\n",
    "    plt.ylabel('MSE')\n",
    "    plt.xlim(0, n_trees)\n",
    "    plt.plot(list(range(n_trees)), train_err, label='train error')\n",
    "    plt.plot(list(range(n_trees)), test_err, label='test error')\n",
    "    plt.legend(loc='upper right')\n",
    "    plt.show()"
   ]
  },
  {
   "cell_type": "code",
   "execution_count": 19,
   "metadata": {},
   "outputs": [],
   "source": [
    "# Число деревьев в ансамбле\n",
    "n_trees = 10\n",
    "\n",
    "# для простоты примем коэффициенты равными 1\n",
    "coefs = [1] * n_trees\n",
    "\n",
    "# Максимальная глубина деревьев\n",
    "max_depth = 3\n",
    "\n",
    "# Шаг\n",
    "eta = 1"
   ]
  },
  {
   "cell_type": "code",
   "execution_count": 20,
   "metadata": {},
   "outputs": [
    {
     "data": {
      "image/png": "[encoded data removed]",
      "text/plain": [
       "<Figure size 432x288 with 1 Axes>"
      ]
     },
     "metadata": {
      "needs_background": "light"
     },
     "output_type": "display_data"
    },
    {
     "name": "stdout",
     "output_type": "stream",
     "text": [
      "      \t train_errors \t\t test_errors\n",
      "____________________________________________________\n",
      "шаг 1 | 4085.8793439900014 \t 4551.0165694944335\n",
      "шаг 2 | 3350.2526194906523 \t 3891.5541444394635\n",
      "шаг 3 | 3179.195168648426 \t 3954.1075520822387\n"
     ]
    }
   ],
   "source": [
    "# Максимальная глубина деревьев\n",
    "max_depth = 1\n",
    "\n",
    "trees, train_errors, test_errors = gb_fit(n_trees, max_depth, X_train, X_test, y_train, y_test, coefs, eta)\n",
    "get_error_plot(n_trees, train_errors, test_errors, max_depth)\n",
    "\n",
    "print(f'      \\t train_errors \\t\\t test_errors')\n",
    "print('_'*52)\n",
    "print('шаг 1 |', train_errors[1], '\\t', test_errors[1])\n",
    "print('шаг 2 |', train_errors[2], '\\t', test_errors[2])\n",
    "print('шаг 3 |', train_errors[3], '\\t', test_errors[3])"
   ]
  },
  {
   "cell_type": "code",
   "execution_count": 21,
   "metadata": {},
   "outputs": [
    {
     "data": {
      "image/png": "[encoded data removed]",
      "text/plain": [
       "<Figure size 432x288 with 1 Axes>"
      ]
     },
     "metadata": {
      "needs_background": "light"
     },
     "output_type": "display_data"
    },
    {
     "name": "stdout",
     "output_type": "stream",
     "text": [
      "      \t train_errors \t\t test_errors\n",
      "____________________________________________________\n",
      "шаг 1 | 3244.2984311899595 \t 4061.6066718036886\n",
      "шаг 2 | 2884.5524188880686 \t 4070.7741967194893\n",
      "шаг 3 | 2669.7110734503403 \t 4031.0303074206527\n"
     ]
    }
   ],
   "source": [
    "# Максимальная глубина деревьев\n",
    "max_depth = 2\n",
    "\n",
    "trees, train_errors, test_errors = gb_fit(n_trees, max_depth, X_train, X_test, y_train, y_test, coefs, eta)\n",
    "get_error_plot(n_trees, train_errors, test_errors, max_depth)\n",
    "\n",
    "print(f'      \\t train_errors \\t\\t test_errors')\n",
    "print('_'*52)\n",
    "print('шаг 1 |', train_errors[1], '\\t', test_errors[1])\n",
    "print('шаг 2 |', train_errors[2], '\\t', test_errors[2])\n",
    "print('шаг 3 |', train_errors[3], '\\t', test_errors[3])"
   ]
  },
  {
   "cell_type": "code",
   "execution_count": 22,
   "metadata": {},
   "outputs": [
    {
     "data": {
      "image/png": "[encoded data removed]",
      "text/plain": [
       "<Figure size 432x288 with 1 Axes>"
      ]
     },
     "metadata": {
      "needs_background": "light"
     },
     "output_type": "display_data"
    },
    {
     "name": "stdout",
     "output_type": "stream",
     "text": [
      "      \t train_errors \t\t test_errors\n",
      "____________________________________________________\n",
      "шаг 1 | 2846.220580659837 \t 4051.2686948392234\n",
      "шаг 2 | 2360.129106336383 \t 4789.12822335856\n",
      "шаг 3 | 2072.184630606552 \t 5072.530685789605\n"
     ]
    }
   ],
   "source": [
    "# Максимальная глубина деревьев\n",
    "max_depth = 3\n",
    "\n",
    "trees, train_errors, test_errors = gb_fit(n_trees, max_depth, X_train, X_test, y_train, y_test, coefs, eta)\n",
    "get_error_plot(n_trees, train_errors, test_errors, max_depth)\n",
    "\n",
    "print(f'      \\t train_errors \\t\\t test_errors')\n",
    "print('_'*52)\n",
    "print('шаг 1 |', train_errors[1], '\\t', test_errors[1])\n",
    "print('шаг 2 |', train_errors[2], '\\t', test_errors[2])\n",
    "print('шаг 3 |', train_errors[3], '\\t', test_errors[3])"
   ]
  },
  {
   "cell_type": "code",
   "execution_count": 23,
   "metadata": {},
   "outputs": [
    {
     "data": {
      "image/png": "[encoded data removed]",
      "text/plain": [
       "<Figure size 432x288 with 1 Axes>"
      ]
     },
     "metadata": {
      "needs_background": "light"
     },
     "output_type": "display_data"
    },
    {
     "name": "stdout",
     "output_type": "stream",
     "text": [
      "      \t train_errors \t\t test_errors\n",
      "____________________________________________________\n",
      "шаг 1 | 2285.4099234301975 \t 4365.048252908792\n",
      "шаг 2 | 1785.6284904139147 \t 4555.045111065534\n",
      "шаг 3 | 1375.5767068185048 \t 4671.824877022029\n"
     ]
    }
   ],
   "source": [
    "# Максимальная глубина деревьев\n",
    "max_depth = 4\n",
    "\n",
    "trees, train_errors, test_errors = gb_fit(n_trees, max_depth, X_train, X_test, y_train, y_test, coefs, eta)\n",
    "get_error_plot(n_trees, train_errors, test_errors, max_depth)\n",
    "\n",
    "print(f'      \\t train_errors \\t\\t test_errors')\n",
    "print('_'*52)\n",
    "print('шаг 1 |', train_errors[1], '\\t', test_errors[1])\n",
    "print('шаг 2 |', train_errors[2], '\\t', test_errors[2])\n",
    "print('шаг 3 |', train_errors[3], '\\t', test_errors[3])\n",
    "# Видно, что модель переобучилась"
   ]
  },
  {
   "cell_type": "code",
   "execution_count": 24,
   "metadata": {},
   "outputs": [
    {
     "data": {
      "image/png": "[encoded data removed]",
      "text/plain": [
       "<Figure size 432x288 with 1 Axes>"
      ]
     },
     "metadata": {
      "needs_background": "light"
     },
     "output_type": "display_data"
    },
    {
     "name": "stdout",
     "output_type": "stream",
     "text": [
      "      \t train_errors \t\t test_errors\n",
      "____________________________________________________\n",
      "шаг 1 | 1837.6265073788115 \t 4584.658082521537\n",
      "шаг 2 | 1335.7803427516828 \t 5563.2247409169495\n",
      "шаг 3 | 973.1423686858967 \t 6009.767147933885\n"
     ]
    }
   ],
   "source": [
    "# Максимальная глубина деревьев\n",
    "max_depth = 5\n",
    "\n",
    "trees, train_errors, test_errors = gb_fit(n_trees, max_depth, X_train, X_test, y_train, y_test, coefs, eta)\n",
    "get_error_plot(n_trees, train_errors, test_errors, max_depth)\n",
    "\n",
    "print(f'      \\t train_errors \\t\\t test_errors')\n",
    "print('_'*52)\n",
    "print('шаг 1 |', train_errors[1], '\\t', test_errors[1])\n",
    "print('шаг 2 |', train_errors[2], '\\t', test_errors[2])\n",
    "print('шаг 3 |', train_errors[3], '\\t', test_errors[3])\n",
    "# Видно, что модель переобучилась"
   ]
  },
  {
   "cell_type": "code",
   "execution_count": 25,
   "metadata": {},
   "outputs": [
    {
     "data": {
      "image/png": "[encoded data removed]",
      "text/plain": [
       "<Figure size 432x288 with 1 Axes>"
      ]
     },
     "metadata": {
      "needs_background": "light"
     },
     "output_type": "display_data"
    },
    {
     "name": "stdout",
     "output_type": "stream",
     "text": [
      "      \t train_errors \t\t test_errors\n",
      "____________________________________________________\n",
      "шаг 1 | 181.95466627738708 \t 6113.801960988778\n",
      "шаг 2 | 24.023115787459254 \t 6539.79197243685\n",
      "шаг 3 | 1.7836042256714795 \t 6672.675465452565\n"
     ]
    }
   ],
   "source": [
    "# Максимальная глубина деревьев\n",
    "max_depth = 10\n",
    "\n",
    "trees, train_errors, test_errors = gb_fit(n_trees, max_depth, X_train, X_test, y_train, y_test, coefs, eta)\n",
    "get_error_plot(n_trees, train_errors, test_errors, max_depth)\n",
    "\n",
    "print(f'      \\t train_errors \\t\\t test_errors')\n",
    "print('_'*52)\n",
    "print('шаг 1 |', train_errors[1], '\\t', test_errors[1])\n",
    "print('шаг 2 |', train_errors[2], '\\t', test_errors[2])\n",
    "print('шаг 3 |', train_errors[3], '\\t', test_errors[3])\n",
    "# Видно, что модель переобучилась"
   ]
  },
  {
   "cell_type": "markdown",
   "metadata": {},
   "source": [
    "__Вывод:__\n",
    "\n",
    "1.2 \n",
    "Из графиков и значений ошибок видно, что оптимальным значением глубины дерева, _при постоянных остальных критериях (Число деревьев в ансамбле: n_trees = 10, \n",
    "коэффициенты: coefs = 1 и Шаг: eta = 1)_, является __max_depth = 3__.\n",
    "\n",
    "       train_errors \t  test_errors\n",
    "шаг 1 | 2839.667157109237&nbsp;&nbsp;&nbsp;&nbsp;&nbsp; \t 3808.8682065553307<br>\n",
    "шаг 2 | 2514.1926774245494&nbsp;&nbsp;&nbsp;&nbsp;4066.054971603613<br>\n",
    "шаг 3 | 2126.795417740424&nbsp;&nbsp;&nbsp;&nbsp;&nbsp; \t 4394.533263486755<br>\n",
    "\n",
    "С увеличением максимальной глубина деревьев max_depth (max_depth > 3) ошибка на трейне уменьшает, но на тесте начинает расти.<br>\n",
    "Исходя из этого заключаем, что при max_depth > 3 модель переобучается."
   ]
  },
  {
   "cell_type": "markdown",
   "metadata": {},
   "source": [
    "# \n",
    "__1.3__ Сделать выводы о зависимости ошибки от этих параметров."
   ]
  },
  {
   "cell_type": "markdown",
   "metadata": {},
   "source": [
    "__Выводы:__\n",
    "\n",
    "__1.1__\n",
    "Из графика и значений ошибок видно, что резгий изгиб графика происходит на 1 шаге (число деревьев в ансамбле n_trees = 2), _при постоянных остальных критериях (максимальная глубина деревьев\n",
    "max_depth = 3, коэффициенты: coefs = 1 и Шаг: eta = 1)_.<br>\n",
    "\n",
    "       train_errors \t  test_errors\n",
    "шаг 1 | 2839.667157109237&nbsp;&nbsp;&nbsp;&nbsp;&nbsp; \t 3808.8682065553307<br>\n",
    "шаг 2 | 2514.1926774245494&nbsp;&nbsp;&nbsp;&nbsp;4066.054971603613<br>\n",
    "шаг 3 | 2126.795417740424&nbsp;&nbsp;&nbsp;&nbsp;&nbsp; \t 4394.533263486755<br>\n",
    "\n",
    "Далее при увеличении числа деревьев в ансамбле n_trees (n_trees > 2), ошибка на трейне продолжает уменьшаться, но на тесте начинает расти.\n",
    "\n",
    "Исходя из этого заключаем, что в данном конкретном случае, при увеличении числа деревьев в ансамбле n_trees > 2, модель переобучается (при заданных, постоянных остальных критериях).    \n",
    "    \n",
    "__1.2__\n",
    "Из графиков и значений ошибок видно, что оптимальным значением глубины дерева, _при постоянных остальных критериях (Число деревьев в ансамбле: n_trees = 10, \n",
    "коэффициенты: coefs = 1 и Шаг: eta = 1)_, является __max_depth = 3__.\n",
    "\n",
    "       train_errors \t  test_errors\n",
    "шаг 1 | 2839.667157109237&nbsp;&nbsp;&nbsp;&nbsp;&nbsp; \t 3808.8682065553307<br>\n",
    "шаг 2 | 2514.1926774245494&nbsp;&nbsp;&nbsp;&nbsp;4066.054971603613<br>\n",
    "шаг 3 | 2126.795417740424&nbsp;&nbsp;&nbsp;&nbsp;&nbsp; \t 4394.533263486755<br>\n",
    "\n",
    "С увеличением максимальной глубина деревьев max_depth (max_depth > 3) ошибка на трейне уменьшает, но на тесте начинает расти.<br>\n",
    "Исходя из этого заключаем, что при max_depth > 3 модель переобучается."
   ]
  },
  {
   "cell_type": "code",
   "execution_count": null,
   "metadata": {},
   "outputs": [],
   "source": []
  },
  {
   "cell_type": "code",
   "execution_count": null,
   "metadata": {},
   "outputs": [],
   "source": []
  }
 ],
 "metadata": {
  "kernelspec": {
   "display_name": "Python 3",
   "language": "python",
   "name": "python3"
  },
  "language_info": {
   "codemirror_mode": {
    "name": "ipython",
    "version": 3
   },
   "file_extension": ".py",
   "mimetype": "text/x-python",
   "name": "python",
   "nbconvert_exporter": "python",
   "pygments_lexer": "ipython3",
   "version": "3.8.5"
  }
 },
 "nbformat": 4,
 "nbformat_minor": 4
}
