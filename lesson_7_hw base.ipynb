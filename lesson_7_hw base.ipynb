{
 "cells": [
  {
   "cell_type": "markdown",
   "metadata": {},
   "source": [
    "# Алгоритмы анализа данных"
   ]
  },
  {
   "cell_type": "markdown",
   "metadata": {},
   "source": [
    "## Урок 7. Классификация с помощью KNN. Кластеризация K-means"
   ]
  },
  {
   "cell_type": "markdown",
   "metadata": {},
   "source": [
    "## <center> Практическое задание </center>"
   ]
  },
  {
   "cell_type": "markdown",
   "metadata": {},
   "source": [
    "__Задание 1:__ К алгоритму kNN, реализованному на уроке, реализовать добавление весов для соседей в зависимости от номера соседа.\n",
    "\n",
    "__Задание 2:__ К алгоритму kNN, реализованному на уроке, реализовать добавление весов для соседей в зависимости от расстояния до соседа. Сравнить метрики качества и сложность разделяющей гиперплоскости. Сделать выводы.\n",
    "\n",
    "__Задание 3:__ Настроить оптимальное значение числа соседей для моделей из п.1 и п.2, __сделать выводы__.\n",
    "\n",
    "__Задание 4 (опция):__ Написать функцию подсчета метрики качества кластеризации как среднее квадратичное внутриклассовое расстояние и построить график ее зависимости от количества кластеров k (взять от 1 до 10) для выборки данных из данного урока (создать датасет, как в методичке)."
   ]
  },
  {
   "cell_type": "code",
   "execution_count": 1,
   "metadata": {},
   "outputs": [],
   "source": [
    "import random\n",
    "import numpy as np\n",
    "from sklearn import model_selection\n",
    "from sklearn.datasets import load_iris\n",
    "import matplotlib.pyplot as plt\n",
    "from matplotlib.colors import ListedColormap"
   ]
  },
  {
   "cell_type": "code",
   "execution_count": 2,
   "metadata": {},
   "outputs": [],
   "source": [
    "#Генерируем датасет\n",
    "def generateData_1(numberOfClassEl, numberOfClasses):\n",
    "    data = []\n",
    "    label = []\n",
    "    for classNum in range(numberOfClasses):\n",
    "        #Choose random center of 2-dimensional gaussian\n",
    "        centerX, centerY = random.random()*5.0, random.random()*5.0\n",
    "        #Choose numberOfClassEl random nodes with RMS=0.5\n",
    "        for rowNum in range(numberOfClassEl):\n",
    "            data.append([random.gauss(centerX,0.5), random.gauss(centerY,0.5)])\n",
    "            label.append(classNum)\n",
    "    return data, label"
   ]
  },
  {
   "cell_type": "code",
   "execution_count": 3,
   "metadata": {},
   "outputs": [],
   "source": [
    "# X, y =  generateData_1(100, 4)\n",
    "# X = np.array(X)\n",
    "# y = np.array(y)"
   ]
  },
  {
   "cell_type": "markdown",
   "metadata": {},
   "source": [
    "Загрузим один из датасетов из sklearn."
   ]
  },
  {
   "cell_type": "code",
   "execution_count": 4,
   "metadata": {},
   "outputs": [],
   "source": [
    "X, y = load_iris(return_X_y=True)\n",
    "# Для наглядности возьмем только первые два признака (всего в датасете их 4)\n",
    "X = X[:, :2]"
   ]
  },
  {
   "cell_type": "code",
   "execution_count": 5,
   "metadata": {},
   "outputs": [],
   "source": [
    "# Находим минимальное и максимальное значение для каждого признака\n",
    "def dataset_minmax(dataset):\n",
    "    minmax = list()\n",
    "    for i in range(len(dataset[0])):\n",
    "        col_values = [row[i] for row in dataset]\n",
    "        value_min = min(col_values)\n",
    "        value_max = max(col_values)\n",
    "        minmax.append([value_min, value_max])\n",
    "\n",
    "    return minmax\n",
    "\n",
    "# Нормализация датасета (0-1)\n",
    "def normalize_dataset(dataset, minmax):\n",
    "    for row in dataset:\n",
    "        for i in range(len(row)):\n",
    "            row[i] = (row[i] - minmax[i][0]) / (minmax[i][1] - minmax[i][0])          \n"
   ]
  },
  {
   "cell_type": "markdown",
   "metadata": {},
   "source": [
    "Для выполнения практического задания необходимо отмасштабировать признаки.<br />\n",
    "Применим метод нормализации признаков."
   ]
  },
  {
   "cell_type": "code",
   "execution_count": 6,
   "metadata": {},
   "outputs": [],
   "source": [
    "# Находим минимальное и максимальное значение для каждого признака\n",
    "minmax = dataset_minmax(X)\n",
    "\n",
    "# Нормализация датасета (0-1)\n",
    "normalize_dataset(X, minmax)"
   ]
  },
  {
   "cell_type": "markdown",
   "metadata": {},
   "source": [
    "Разделим выборку на обучающую и тестовую"
   ]
  },
  {
   "cell_type": "code",
   "execution_count": 7,
   "metadata": {},
   "outputs": [],
   "source": [
    "X_train, X_test, y_train, y_test = model_selection.train_test_split(X, y, test_size=0.2, random_state=1)"
   ]
  },
  {
   "cell_type": "code",
   "execution_count": 8,
   "metadata": {},
   "outputs": [
    {
     "data": {
      "text/plain": [
       "<matplotlib.collections.PathCollection at 0x8597fb3430>"
      ]
     },
     "execution_count": 8,
     "metadata": {},
     "output_type": "execute_result"
    },
    {
     "data": {
      "image/png": "[encoded data removed]",
      "text/plain": [
       "<Figure size 504x504 with 1 Axes>"
      ]
     },
     "metadata": {
      "needs_background": "light"
     },
     "output_type": "display_data"
    }
   ],
   "source": [
    "cmap = ListedColormap(['red', 'green', 'blue', 'yellow', 'black'])\n",
    "plt.figure(figsize=(7, 7))\n",
    "plt.scatter(X[:, 0], X[:, 1], c=y, cmap=cmap)"
   ]
  },
  {
   "cell_type": "markdown",
   "metadata": {},
   "source": [
    "Используем евклидову метрику. Реализуем функцию для ее подсчета."
   ]
  },
  {
   "cell_type": "code",
   "execution_count": 9,
   "metadata": {},
   "outputs": [],
   "source": [
    "def e_metrics(x1, x2):\n",
    "    \n",
    "    distance = 0\n",
    "    for i in range(len(x1)):\n",
    "        distance += np.square(x1[i] - x2[i])\n",
    "      \n",
    "    return np.sqrt(distance)"
   ]
  },
  {
   "cell_type": "markdown",
   "metadata": {},
   "source": [
    "Реализуем алгоритм поиска k ближайших соседей."
   ]
  },
  {
   "cell_type": "code",
   "execution_count": 10,
   "metadata": {},
   "outputs": [],
   "source": [
    "def knn(x_train, y_train, x_test, k):\n",
    "    # Базовый алгоритм (вариант из методички), без взвешивания.\n",
    "    \n",
    "    answers = []\n",
    "    for x in x_test:\n",
    "        test_distances = []\n",
    "            \n",
    "        for i in range(len(x_train)):\n",
    "            \n",
    "            # расчет расстояния от классифицируемого объекта до\n",
    "            # объекта обучающей выборки\n",
    "            distance = e_metrics(x, x_train[i])\n",
    "            \n",
    "            # Записываем в список значение расстояния и ответа на объекте обучающей выборки\n",
    "            test_distances.append((distance, y_train[i]))\n",
    "        \n",
    "        # создаем словарь со всеми возможными классами\n",
    "        classes = {class_item: 0 for class_item in set(y_train)}\n",
    "        \n",
    "        # Сортируем список и среди первых k элементов подсчитаем частоту появления разных классов\n",
    "        for d in sorted(test_distances)[0:k]:\n",
    "            classes[d[1]] += 1\n",
    "            \n",
    "        # Записываем в список ответов наиболее часто встречающийся класс\n",
    "        answers.append(sorted(classes, key=classes.get)[-1])\n",
    "    return answers"
   ]
  },
  {
   "cell_type": "markdown",
   "metadata": {},
   "source": [
    "Функция для вычисления точности"
   ]
  },
  {
   "cell_type": "code",
   "execution_count": 11,
   "metadata": {},
   "outputs": [],
   "source": [
    "def accuracy(pred, y):\n",
    "    return (sum(pred == y) / len(y))"
   ]
  },
  {
   "cell_type": "code",
   "execution_count": 12,
   "metadata": {},
   "outputs": [],
   "source": [
    "def get_graph(X_train, y_train, k, q: 0.1, algorism):\n",
    "    \"\"\"\n",
    "    Строим график распределения классов.\n",
    "    \n",
    "    \"\"\"\n",
    "    cmap_light = ListedColormap(['#FFAAAA', '#AAFFAA','#00AAFF','#FFAA00'])\n",
    "\n",
    "    h = .02\n",
    "\n",
    "    # Расчет пределов графика\n",
    "    x_min, x_max = X_train[:, 0].min() - 1, X_train[:, 0].max() + 1\n",
    "    y_min, y_max = X_train[:, 1].min() - 1, X_train[:, 1].max() + 1\n",
    "    xx, yy = np.meshgrid(np.arange(x_min, x_max, h), np.arange(y_min, y_max, h))\n",
    "\n",
    "    # Получим предсказания для всех точек\n",
    "    if algorism == 0:\n",
    "        # Без взвешивания\n",
    "        Z = knn(X_train, y_train, np.c_[xx.ravel(), yy.ravel()], k)\n",
    "    if algorism == 1:    \n",
    "        # Взвешивание по индексам\n",
    "        Z = knn_wi(X_train, y_train, np.c_[xx.ravel(), yy.ravel()], k, q)\n",
    "    if algorism == 2:\n",
    "        # Взвешивание по расстоянию\n",
    "        Z = knn_wn(X_train, y_train, np.c_[xx.ravel(), yy.ravel()], k, q)\n",
    "\n",
    "    # Построим график\n",
    "    Z = np.array(Z).reshape(xx.shape)\n",
    "    plt.figure(figsize=(7,7))\n",
    "    plt.pcolormesh(xx, yy, Z, cmap=cmap_light)\n",
    "\n",
    "    # Добавим на график обучающую выборку\n",
    "    plt.scatter(X_train[:, 0], X_train[:, 1], c=y_train, cmap=cmap)\n",
    "    plt.xlim(xx.min(), xx.max())\n",
    "    plt.ylim(yy.min(), yy.max())\n",
    "    plt.title(f\"Трехклассовая kNN классификация при k = {k}\")\n",
    "    plt.show()"
   ]
  },
  {
   "cell_type": "markdown",
   "metadata": {},
   "source": [
    "Проверим работу алгоритма при различных k"
   ]
  },
  {
   "cell_type": "code",
   "execution_count": 13,
   "metadata": {},
   "outputs": [
    {
     "name": "stdout",
     "output_type": "stream",
     "text": [
      "Точность алгоритма при k = 3: 0.733\n"
     ]
    }
   ],
   "source": [
    "k = 3\n",
    "y_pred = knn(X_train, y_train, X_test, k)\n",
    "print(f'Точность алгоритма при k = {k}: {accuracy(y_pred, y_test):.3f}')"
   ]
  },
  {
   "cell_type": "markdown",
   "metadata": {},
   "source": [
    "Построим график распределения классов."
   ]
  },
  {
   "cell_type": "code",
   "execution_count": 14,
   "metadata": {},
   "outputs": [
    {
     "name": "stderr",
     "output_type": "stream",
     "text": [
      "<ipython-input-12-ddb2c92b3541>:29: MatplotlibDeprecationWarning: shading='flat' when X and Y have the same dimensions as C is deprecated since 3.3.  Either specify the corners of the quadrilaterals with X and Y, or pass shading='auto', 'nearest' or 'gouraud', or set rcParams['pcolor.shading'].  This will become an error two minor releases later.\n",
      "  plt.pcolormesh(xx, yy, Z, cmap=cmap_light)\n"
     ]
    },
    {
     "data": {
      "image/png": "[encoded data removed]",
      "text/plain": [
       "<Figure size 504x504 with 1 Axes>"
      ]
     },
     "metadata": {
      "needs_background": "light"
     },
     "output_type": "display_data"
    }
   ],
   "source": [
    "algorism = 0\n",
    "q = 0.5\n",
    "get_graph(X_train, y_train, k, q, algorism)"
   ]
  },
  {
   "cell_type": "markdown",
   "metadata": {},
   "source": [
    "### 1. Задача:\n",
    "\n",
    "- К алгоритму kNN, реализованному на уроке, реализовать добавление весов для соседей в зависимости от номера соседа."
   ]
  },
  {
   "cell_type": "markdown",
   "metadata": {},
   "source": [
    "Создаём функцию вычисляющую вес зависящий от номера соседа i и основания q (q - гиперпараметр)."
   ]
  },
  {
   "cell_type": "code",
   "execution_count": 15,
   "metadata": {},
   "outputs": [],
   "source": [
    "def weight_ni(i, q):\n",
    "    \"\"\"\n",
    "    Вычисление весов для соседей в зависимости от номера i соседа\n",
    "\n",
    "    Parameters\n",
    "    ----------\n",
    "    i: int\n",
    "        Номер соседа.\n",
    "\n",
    "    q: float\n",
    "        Основание для вычисления весов 0 < q < 1.\n",
    "\n",
    "    Returns\n",
    "    -------\n",
    "    w: float\n",
    "        Значение веса.\n",
    "\n",
    "    \"\"\"\n",
    "    if i == 0:\n",
    "        i = 0.9  # Чтоб не создавать слишком больших весов.\n",
    "                 # Если этого не сделать качество модели резко падает.\n",
    "\n",
    "    w = q**i\n",
    "    \n",
    "    return w"
   ]
  },
  {
   "cell_type": "code",
   "execution_count": 16,
   "metadata": {},
   "outputs": [
    {
     "name": "stdout",
     "output_type": "stream",
     "text": [
      "0.5358867312681466\n",
      "0.5\n",
      "0.25\n"
     ]
    }
   ],
   "source": [
    "q=0.5\n",
    "print(weight_ni(0, q))\n",
    "print(weight_ni(1, q))\n",
    "print(weight_ni(2, q))"
   ]
  },
  {
   "cell_type": "markdown",
   "metadata": {},
   "source": [
    "Реализуем алгоритм поиска k ближайших соседей с учётом весов зависящих от номера соседа."
   ]
  },
  {
   "cell_type": "code",
   "execution_count": 17,
   "metadata": {},
   "outputs": [],
   "source": [
    "def knn_wi(x_train, y_train, x_test, k, q):\n",
    "    \"\"\"\n",
    "    Реализуем алгоритм поиска k ближайших соседей с учётом весов зависящих от номера соседа.\n",
    "\n",
    "    Parameters\n",
    "    ----------\n",
    "    k: int\n",
    "        Количество ближайших соседей.\n",
    "\n",
    "    q: float\n",
    "        Основание для вычисления весов 0 < q < 1.\n",
    "\n",
    "    Returns\n",
    "    -------\n",
    "    answers: list\n",
    "        Список ответов.\n",
    "\n",
    "    \"\"\"\n",
    "    answers = []\n",
    "    for x in x_test:\n",
    "        test_distances = []\n",
    "            \n",
    "        for i in range(len(x_train)):\n",
    "            \n",
    "            # расчет расстояния от классифицируемого объекта до\n",
    "            # объекта обучающей выборки\n",
    "            distance = e_metrics(x, x_train[i])\n",
    "            \n",
    "            # Записываем в список значение расстояния и ответа на объекте обучающей выборки\n",
    "            test_distances.append((distance, y_train[i]))\n",
    "                    \n",
    "        # создаем словарь со всеми возможными классами (создаём множество из y_train)\n",
    "        classes = {class_item: 0 for class_item in set(y_train)}\n",
    "        \n",
    "        # Сортируем список и среди первых k элементов подсчитаем частоту появления разных классов\n",
    "        \n",
    "        test_distances_sort = sorted(test_distances)[0:k]\n",
    "        #print(test_distances_sort)\n",
    "        # [(0.08784104611578843, 0), (0.1672443691498929, 2), ..., (0.18685588954269042, 1)]\n",
    "        for i in range(len(test_distances_sort)):\n",
    "\n",
    "            #\n",
    "            # Изменение базового алгоритма:\n",
    "            #\n",
    "            # Присваиваем классам веса зависящие от номера соседа\n",
    "            #\n",
    "            # classes[d[1]] += 1\n",
    "            #\n",
    "            # print(i, test_distances_sort[i])\n",
    "            classes[test_distances_sort[i][1]] += weight_ni(i, q)\n",
    "\n",
    "        # Сортируем список и среди первых k элементов подсчитаем частоту появления разных классов\n",
    "        j = 0\n",
    "        for d in sorted(test_distances)[0:k]:\n",
    "            classes[d[1]] += weight_ni(j, q)\n",
    "            \n",
    "        # Записываем в список ответов класс c наибольшим весом\n",
    "        answers.append(sorted(classes, key=classes.get)[-1])\n",
    "        \n",
    "        # print(classes)\n",
    "        \n",
    "    return answers"
   ]
  },
  {
   "cell_type": "markdown",
   "metadata": {},
   "source": [
    "Проверим работу алгоритма при различных k"
   ]
  },
  {
   "cell_type": "code",
   "execution_count": 18,
   "metadata": {},
   "outputs": [
    {
     "name": "stdout",
     "output_type": "stream",
     "text": [
      "q = 0.5. Точность алгоритма при k = 5: 0.8666666666666667\n"
     ]
    }
   ],
   "source": [
    "k = 5\n",
    "q = 0.5 \n",
    "y_pred = knn_wi(X_train, y_train, X_test, k, q)\n",
    "print(f'q = {q}. Точность алгоритма при k = {k}: {accuracy(y_pred, y_test)}')\n",
    "#print(f'Точность алгоритма при k = {k}: {accuracy(y_pred, y_test):.3f}')"
   ]
  },
  {
   "cell_type": "code",
   "execution_count": 19,
   "metadata": {},
   "outputs": [
    {
     "name": "stderr",
     "output_type": "stream",
     "text": [
      "<ipython-input-12-ddb2c92b3541>:29: MatplotlibDeprecationWarning: shading='flat' when X and Y have the same dimensions as C is deprecated since 3.3.  Either specify the corners of the quadrilaterals with X and Y, or pass shading='auto', 'nearest' or 'gouraud', or set rcParams['pcolor.shading'].  This will become an error two minor releases later.\n",
      "  plt.pcolormesh(xx, yy, Z, cmap=cmap_light)\n"
     ]
    },
    {
     "data": {
      "image/png": "[encoded data removed]",
      "text/plain": [
       "<Figure size 504x504 with 1 Axes>"
      ]
     },
     "metadata": {
      "needs_background": "light"
     },
     "output_type": "display_data"
    }
   ],
   "source": [
    "# get_graph_wi(X_train, y_train, k, q)\n",
    "algorism = 1\n",
    "get_graph(X_train, y_train, k, q, algorism)"
   ]
  },
  {
   "cell_type": "markdown",
   "metadata": {},
   "source": [
    "# "
   ]
  },
  {
   "cell_type": "markdown",
   "metadata": {},
   "source": [
    "### 2. Задача:\n",
    "\n",
    "- К алгоритму kNN, реализованному на уроке, реализовать добавление весов для соседей в зависимости от расстояния до соседа. Сравнить метрики качества и сложность разделяющей гиперплоскости. Сделать выводы."
   ]
  },
  {
   "cell_type": "code",
   "execution_count": 20,
   "metadata": {},
   "outputs": [],
   "source": [
    "def weight_nd(distance, q):\n",
    "    \"\"\"\n",
    "    Вычисление весов для соседей в зависимости от дистанции до соседа\n",
    "\n",
    "    Parameters\n",
    "    ----------\n",
    "    distance: float\n",
    "        Дистанция до соседа.\n",
    "\n",
    "    q: float\n",
    "        Основание для вычисления весов 0 < q < 1.\n",
    "\n",
    "    Returns\n",
    "    -------\n",
    "    w: float\n",
    "        Значение веса.\n",
    "\n",
    "    \"\"\"\n",
    "    w = q**distance\n",
    "    return w"
   ]
  },
  {
   "cell_type": "code",
   "execution_count": 21,
   "metadata": {},
   "outputs": [],
   "source": [
    "def knn_wn(x_train, y_train, x_test, k, q):\n",
    "    \"\"\"\n",
    "    Реализуем алгоритм поиска k ближайших соседей с учётом весов зависящих от расстояния до соседа.\n",
    "\n",
    "    Parameters\n",
    "    ----------\n",
    "    k: int\n",
    "        Количество ближайших соседей.\n",
    "\n",
    "    q: float\n",
    "        Основание для вычисления весов 0 < q < 1.\n",
    "\n",
    "    Returns\n",
    "    -------\n",
    "    answers: list\n",
    "        Список ответов.\n",
    "\n",
    "    \"\"\"\n",
    "    answers = []\n",
    "    for x in x_test:\n",
    "        test_distances = []\n",
    "            \n",
    "        for i in range(len(x_train)):\n",
    "            \n",
    "            # расчет расстояния от классифицируемого объекта до\n",
    "            # объекта обучающей выборки\n",
    "            distance = e_metrics(x, x_train[i])\n",
    "            \n",
    "            # Записываем в список значение расстояния и ответа на объекте обучающей выборки\n",
    "            test_distances.append((distance, y_train[i]))\n",
    "                    \n",
    "        # создаем словарь со всеми возможными классами (создаём множество из y_train)\n",
    "        classes = {class_item: 0 for class_item in set(y_train)}\n",
    "        \n",
    "        # print(sorted(test_distances)[0:k])\n",
    "        # Сортируем список и среди первых k элементов подсчитаем частоту появления разных классов\n",
    "        for d in sorted(test_distances)[0:k]:\n",
    "\n",
    "            #\n",
    "            # Изменение базового алгоритма:\n",
    "            #\n",
    "            # Присваиваем классам веса зависящие от расстояния до соседа\n",
    "            #\n",
    "            # classes[d[1]] += 1\n",
    "            #\n",
    "            classes[d[1]] += weight_nd(d[0], q)\n",
    "            \n",
    "            \n",
    "        # Записываем в список ответов класс c наибольшим весом\n",
    "        answers.append(sorted(classes, key=classes.get)[-1])\n",
    "        \n",
    "        # print(classes)\n",
    "        \n",
    "    return answers"
   ]
  },
  {
   "cell_type": "code",
   "execution_count": 22,
   "metadata": {},
   "outputs": [
    {
     "name": "stdout",
     "output_type": "stream",
     "text": [
      "Точность алгоритма при k = 5: 0.867\n",
      "q = 0.5. Точность алгоритма при k = 5: 0.8666666666666667\n"
     ]
    }
   ],
   "source": [
    "k = 5\n",
    "q = 0.5 \n",
    "y_pred = knn_wn(X_train, y_train, X_test, k, q)\n",
    "print(f'Точность алгоритма при k = {k}: {accuracy(y_pred, y_test):.3f}')\n",
    "print(f'q = {q}. Точность алгоритма при k = {k}: {accuracy(y_pred, y_test)}')    "
   ]
  },
  {
   "cell_type": "code",
   "execution_count": 23,
   "metadata": {},
   "outputs": [
    {
     "name": "stderr",
     "output_type": "stream",
     "text": [
      "<ipython-input-12-ddb2c92b3541>:29: MatplotlibDeprecationWarning: shading='flat' when X and Y have the same dimensions as C is deprecated since 3.3.  Either specify the corners of the quadrilaterals with X and Y, or pass shading='auto', 'nearest' or 'gouraud', or set rcParams['pcolor.shading'].  This will become an error two minor releases later.\n",
      "  plt.pcolormesh(xx, yy, Z, cmap=cmap_light)\n"
     ]
    },
    {
     "data": {
      "image/png": "[encoded data removed]",
      "text/plain": [
       "<Figure size 504x504 with 1 Axes>"
      ]
     },
     "metadata": {
      "needs_background": "light"
     },
     "output_type": "display_data"
    }
   ],
   "source": [
    "# get_graph_wn(X_train, y_train, k, q)\n",
    "algorism = 2\n",
    "get_graph(X_train, y_train, k, q, algorism)"
   ]
  },
  {
   "cell_type": "markdown",
   "metadata": {},
   "source": [
    "# Задание 3:\n",
    "    \n",
    "- Настроить оптимальное значение числа соседей для моделей из п.1 и п.2, сделать выводы."
   ]
  },
  {
   "cell_type": "code",
   "execution_count": 30,
   "metadata": {},
   "outputs": [
    {
     "name": "stdout",
     "output_type": "stream",
     "text": [
      "q = 0.5. Точность алгоритма при k = 1: 0.6666666666666666\n",
      "q = 0.5. Точность алгоритма при k = 2: 0.6666666666666666\n",
      "q = 0.5. Точность алгоритма при k = 3: 0.7333333333333333\n",
      "q = 0.5. Точность алгоритма при k = 4: 0.7333333333333333\n",
      "q = 0.5. Точность алгоритма при k = 5: 0.8666666666666667\n",
      "q = 0.5. Точность алгоритма при k = 6: 0.8333333333333334\n",
      "q = 0.5. Точность алгоритма при k = 7: 0.8333333333333334\n",
      "q = 0.5. Точность алгоритма при k = 8: 0.7666666666666667\n",
      "q = 0.5. Точность алгоритма при k = 9: 0.8333333333333334\n",
      "q = 0.5. Точность алгоритма при k = 10: 0.8333333333333334\n",
      "q = 0.5. Точность алгоритма при k = 11: 0.8333333333333334\n",
      "q = 0.5. Точность алгоритма при k = 12: 0.8333333333333334\n",
      "q = 0.5. Точность алгоритма при k = 13: 0.8333333333333334\n",
      "q = 0.5. Точность алгоритма при k = 14: 0.8333333333333334\n",
      "q = 0.5. Точность алгоритма при k = 15: 0.8333333333333334\n",
      "q = 0.5. Точность алгоритма при k = 16: 0.8333333333333334\n",
      "q = 0.5. Точность алгоритма при k = 17: 0.8333333333333334\n",
      "q = 0.5. Точность алгоритма при k = 18: 0.8333333333333334\n",
      "q = 0.5. Точность алгоритма при k = 19: 0.8333333333333334\n",
      "q = 0.5. Точность алгоритма при k = 20: 0.8333333333333334\n",
      "q = 0.5. Точность алгоритма при k = 21: 0.8333333333333334\n",
      "q = 0.5. Точность алгоритма при k = 22: 0.8333333333333334\n",
      "q = 0.5. Точность алгоритма при k = 23: 0.8333333333333334\n",
      "q = 0.5. Точность алгоритма при k = 24: 0.8333333333333334\n",
      "q = 0.5. Точность алгоритма при k = 25: 0.8333333333333334\n",
      "q = 0.5. Точность алгоритма при k = 26: 0.8333333333333334\n",
      "q = 0.5. Точность алгоритма при k = 27: 0.8\n",
      "q = 0.5. Точность алгоритма при k = 28: 0.8333333333333334\n",
      "q = 0.5. Точность алгоритма при k = 29: 0.8333333333333334\n"
     ]
    }
   ],
   "source": [
    "# Алгоритм с учётом весов зависящих от номера соседа:\n",
    "q = 0.5 \n",
    "k_accuracy = []\n",
    "\n",
    "for k in range(1, 30, 1):\n",
    "    y_pred = knn_wi(X_train, y_train, X_test, k, q)\n",
    "    k_accuracy.append((k, y_pred))\n",
    "    print(f'q = {q}. Точность алгоритма при k = {k}: {accuracy(y_pred, y_test)}')    \n",
    "\n",
    "#k_accuracy"
   ]
  },
  {
   "cell_type": "code",
   "execution_count": 25,
   "metadata": {},
   "outputs": [],
   "source": [
    "algorism = 1\n",
    "# get_graph(X_train, y_train, k, q, algorism)"
   ]
  },
  {
   "cell_type": "code",
   "execution_count": 32,
   "metadata": {},
   "outputs": [
    {
     "name": "stdout",
     "output_type": "stream",
     "text": [
      "q = 0.5. Точность алгоритма при k = 1: 0.6666666666666666\n",
      "q = 0.5. Точность алгоритма при k = 2: 0.7\n",
      "q = 0.5. Точность алгоритма при k = 3: 0.7333333333333333\n",
      "q = 0.5. Точность алгоритма при k = 4: 0.7333333333333333\n",
      "q = 0.5. Точность алгоритма при k = 5: 0.8666666666666667\n",
      "q = 0.5. Точность алгоритма при k = 6: 0.8666666666666667\n",
      "q = 0.5. Точность алгоритма при k = 7: 0.8333333333333334\n",
      "q = 0.5. Точность алгоритма при k = 8: 0.8666666666666667\n",
      "q = 0.5. Точность алгоритма при k = 9: 0.8333333333333334\n",
      "q = 0.5. Точность алгоритма при k = 10: 0.8333333333333334\n",
      "q = 0.5. Точность алгоритма при k = 11: 0.8333333333333334\n",
      "q = 0.5. Точность алгоритма при k = 12: 0.8333333333333334\n",
      "q = 0.5. Точность алгоритма при k = 13: 0.8333333333333334\n",
      "q = 0.5. Точность алгоритма при k = 14: 0.8333333333333334\n",
      "q = 0.5. Точность алгоритма при k = 15: 0.8333333333333334\n",
      "q = 0.5. Точность алгоритма при k = 16: 0.8333333333333334\n",
      "q = 0.5. Точность алгоритма при k = 17: 0.8333333333333334\n",
      "q = 0.5. Точность алгоритма при k = 18: 0.8333333333333334\n",
      "q = 0.5. Точность алгоритма при k = 19: 0.8333333333333334\n",
      "q = 0.5. Точность алгоритма при k = 20: 0.8333333333333334\n",
      "q = 0.5. Точность алгоритма при k = 21: 0.8333333333333334\n",
      "q = 0.5. Точность алгоритма при k = 22: 0.8333333333333334\n",
      "q = 0.5. Точность алгоритма при k = 23: 0.8333333333333334\n",
      "q = 0.5. Точность алгоритма при k = 24: 0.8333333333333334\n",
      "q = 0.5. Точность алгоритма при k = 25: 0.8333333333333334\n",
      "q = 0.5. Точность алгоритма при k = 26: 0.8333333333333334\n",
      "q = 0.5. Точность алгоритма при k = 27: 0.7666666666666667\n",
      "q = 0.5. Точность алгоритма при k = 28: 0.8\n",
      "q = 0.5. Точность алгоритма при k = 29: 0.8\n"
     ]
    }
   ],
   "source": [
    "# Алгоритм с учётом весов зависящих от расстояния между соседми\n",
    "q = 0.5 \n",
    "k_accuracy = []\n",
    "for k in range(1, 30, 1):\n",
    "    y_pred = knn_wn(X_train, y_train, X_test, k, q)\n",
    "    k_accuracy.append((k, y_pred))\n",
    "    print(f'q = {q}. Точность алгоритма при k = {k}: {accuracy(y_pred, y_test)}')    \n",
    "\n",
    "#k_accuracy"
   ]
  },
  {
   "cell_type": "code",
   "execution_count": 27,
   "metadata": {},
   "outputs": [],
   "source": [
    "algorism = 2\n",
    "# get_graph(X_train, y_train, k, q, algorism)"
   ]
  },
  {
   "cell_type": "markdown",
   "metadata": {},
   "source": [
    "Базовый вариант, без учёта весов:<br>\n",
    "- Точность алгоритма при k = 5: 0.867\n",
    "\n",
    "Алгоритм с учётом весов зависящих от номера соседа:<br>\n",
    "- Точность алгоритма росла до k = 5\n",
    "- Максимальная точность алгоритма была достигнута при k = 5: 0.8666666666666667\n",
    "- При дальнейшем увеличении числа ближайших соседей точность алгоритма снижается.\n",
    "\n",
    "Алгоритм с учётом весов зависящих от расстояния между соседми:<br>\n",
    "- Точность алгоритма росла до k = 5\n",
    "- Максимальная точность алгоритма была достигнута при k = 5: 0.8666666666666667\n",
    "- При дальнейшем увеличении числа ближайших соседей точность алгоритма снижается.\n",
    "\n",
    "Точность обоих алгоритмов оказались одинаковыми.\n",
    "\n",
    "__Вывод__:\n",
    "\n",
    "Для нашего конкретного случая, оптимальным значением числа ближайших соседей является k = 5."
   ]
  },
  {
   "cell_type": "code",
   "execution_count": null,
   "metadata": {},
   "outputs": [],
   "source": []
  }
 ],
 "metadata": {
  "kernelspec": {
   "display_name": "Python 3",
   "language": "python",
   "name": "python3"
  },
  "language_info": {
   "codemirror_mode": {
    "name": "ipython",
    "version": 3
   },
   "file_extension": ".py",
   "mimetype": "text/x-python",
   "name": "python",
   "nbconvert_exporter": "python",
   "pygments_lexer": "ipython3",
   "version": "3.8.5"
  }
 },
 "nbformat": 4,
 "nbformat_minor": 4
}
