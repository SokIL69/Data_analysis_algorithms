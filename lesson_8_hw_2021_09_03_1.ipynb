{
 "cells": [
  {
   "cell_type": "markdown",
   "metadata": {},
   "source": [
    "# Алгоритмы анализа данных"
   ]
  },
  {
   "cell_type": "markdown",
   "metadata": {},
   "source": [
    "## Урок 8. Снижение размерности данных"
   ]
  },
  {
   "cell_type": "markdown",
   "metadata": {},
   "source": [
    "## <center> Практическое задание </center>"
   ]
  },
  {
   "cell_type": "markdown",
   "metadata": {},
   "source": [
    "__Задание 1:__ Можно ли отобрать наиболее значимые признаки с помощью PCA?"
   ]
  },
  {
   "cell_type": "markdown",
   "metadata": {},
   "source": [
    "## Для самостоятельной работы"
   ]
  },
  {
   "cell_type": "markdown",
   "metadata": {},
   "source": [
    "1. (*) Написать свою реализацию метода главных компонент с помощью сингулярного разложения с использованием функции [numpy.linalg.svd()](https://docs.scipy.org/doc/numpy/reference/generated/numpy.linalg.svd.html)\n",
    "2. (*) Обучить любую модель классификации на датасете IRIS до применения PCA и после него. Сравнить качество классификации по отложенной выборке.\n",
    "3. (*) Принять участие в одном или двух соревнованиях и прислать свой псевдоним на Kaggle и ссылку на github с решением задачи.\n",
    "\n",
    "по регрессии (https://www.kaggle.com/c/tutors-expected-math-exam-results)\n",
    "\n",
    "или классификации (https://www.kaggle.com/c/choose-tutors)."
   ]
  },
  {
   "cell_type": "markdown",
   "metadata": {},
   "source": [
    "Функция linalg.svd() выполняет сингулярное (SVD) разложение."
   ]
  },
  {
   "cell_type": "code",
   "execution_count": 1,
   "metadata": {},
   "outputs": [],
   "source": [
    "import numpy as np\n",
    "import pandas as pd\n",
    "from sklearn.model_selection import train_test_split\n",
    "import matplotlib.pyplot as plt\n",
    "import seaborn as sns"
   ]
  },
  {
   "cell_type": "markdown",
   "metadata": {},
   "source": [
    "# Задание 1:\n",
    "\n",
    "- Можно ли отобрать наиболее значимые признаки с помощью PCA?"
   ]
  },
  {
   "cell_type": "markdown",
   "metadata": {},
   "source": [
    "Опишем суть метода PCA в терминах преобразования линейного n-мерного пространства признаков, где n-количество признаков содержащихся в матрице признаков X нашей задачи.\n",
    "\n",
    "Пусть имеется некоторе n-мерное пространство $S$, в котором определён n-мерный базис, состоящих из n базисных векторов $e_i, i=1,...,n$.\n",
    "\n",
    "Для простоты и наглядности будем считать, что базис является ортонормированным, то есть $$e_i\\cdot e_j=\\delta_{ij}$$\n",
    "Здесь $\\delta_{ij}$ - дельта символ Кронекера\n",
    "$$\\delta_{ij}= \\left\\{_{0, i\\neq j}^{1, i=j}\\right.$$"
   ]
  },
  {
   "cell_type": "markdown",
   "metadata": {},
   "source": [
    "Пусть вектор $X_k$ - n-мерный вектор нашего пространства признаков, проекции которого $x_i^k$ на базис $e_i$ и есть __строка нашей матрицы признаков $X$__, то есть набор значений признаков соответствующих $y_k$, конкретному k-му значению вектора значений $y$. В нашем базисе вектор $X_k$ можно записать как $$X_k=\\sum_{i=1}^{n}x_i^k e_i$$."
   ]
  },
  {
   "cell_type": "markdown",
   "metadata": {},
   "source": [
    "Зафиксируем, что нашей матрице параметров $X$, в нашем n-мерном пространстве, соответствует некоторая n-мерная гиперплоскость $G$. Точками этой гиперплоскости являются точки заданные векторами $X_k$."
   ]
  },
  {
   "cell_type": "markdown",
   "metadata": {},
   "source": [
    "Вращением базиса $e_i$  в пространстве $S$ и смещением начала координат, мы можем перейти в новый ортонормированнй базис $e'_i$.\n",
    "\n",
    "При этом каждый базисный вектор новой системы координат, может быть выражен как линейная комбинация базисных векторов старой системы координат\n",
    "$$e'_i=\\sum_{j=1}^{n}a_{ij} e_j$$\n",
    "и наоборот, каждый базисный вектор старой системы координат, может быть выражен как линейная комбинация базисных векторов новой системы координат\n",
    "$$e_i=\\sum_{j=1}^{n}{a'}_{ij} e'_j$$."
   ]
  },
  {
   "cell_type": "markdown",
   "metadata": {},
   "source": [
    "Матрицы перехода между базисами А и А' связаны между собой $AA'=I$, где $I$ единичная матрица."
   ]
  },
  {
   "cell_type": "markdown",
   "metadata": {},
   "source": [
    "Каждый n-мерный вектор нашего пространства $X_k$, в новом базисе вектор $X_k$ можно записать как $$X_k=\\sum_{i=1}^{n} {x'}_i^k {e'}_i$$\n",
    "где ${x'}_i^k$ - координаты вектора $X_k$ в новой системе координат."
   ]
  },
  {
   "cell_type": "markdown",
   "metadata": {},
   "source": [
    "Можно выбрать такой базис, что часть базисных векторов новой системы координат окажутся \"ортогональными\" нашей n-мерной гиперплоскости параметров $G$. Пусть количество таких веторов равно $m$. \n",
    "\n",
    "Под \"ортогональнальностью\" мы будем понимать, то что проекция (оценивается дисперсией) вектора параметров $X_k$ будет равна 0 или близка к нему, то есть ${x'}_s^k\\approx 0$ для некоторых m номеров из набора n.\n"
   ]
  },
  {
   "cell_type": "markdown",
   "metadata": {},
   "source": [
    "Соответственно, в этом случае, в новом базисе $e'$ мы можем __перейти от n-мерного пространства, к подпространству размерности $n-m < n$__, так как \n",
    "\n",
    "$$X_k=\\sum_{i=1}^{n-m} {x'}_i^k {e'}_i + \\sum_{i=m}^{n} {x'}_i^k {e'}_i=\\sum_{i=1}^{n-m} {x'}_i^k {e'}_i$$\n",
    "где $${x'}_i^k\\approx 0, i = m,...,n$$ и следовательно пологаем $$\\sum_{i=m}^{n} {x'}_i^k {e'}_i=0$$"
   ]
  },
  {
   "cell_type": "markdown",
   "metadata": {},
   "source": [
    "То есть сделать именно то, что нам необходимо, понизить размерность до n-m."
   ]
  },
  {
   "cell_type": "markdown",
   "metadata": {},
   "source": [
    "В этом как я понимаю и заключается смысл метода главных компонент PCA."
   ]
  },
  {
   "cell_type": "markdown",
   "metadata": {},
   "source": [
    "__Вывод__\n",
    "\n",
    "Как показали наши рассуждения, метод PCA не выявляет наиболее значимые признаки, а позволяет понизить размерность переходом к новому базису и затем переходу к подпрастранству меньшей размерности, без значительной потери качества модели."
   ]
  },
  {
   "cell_type": "markdown",
   "metadata": {},
   "source": [
    "# Задание 1. (*):\n",
    "\n",
    "- Написать свою реализацию метода главных компонент с помощью сингулярного разложения с использованием функции [numpy.linalg.svd()](https://docs.scipy.org/doc/numpy/reference/generated/numpy.linalg.svd.html)"
   ]
  },
  {
   "cell_type": "code",
   "execution_count": 2,
   "metadata": {},
   "outputs": [],
   "source": [
    "import numpy as np\n",
    "from sklearn import datasets\n",
    "import matplotlib.pyplot as plt"
   ]
  },
  {
   "cell_type": "code",
   "execution_count": 3,
   "metadata": {},
   "outputs": [
    {
     "name": "stdout",
     "output_type": "stream",
     "text": [
      "[[5.1 3.5 1.4 0.2]\n",
      " [4.9 3.  1.4 0.2]\n",
      " [4.7 3.2 1.3 0.2]\n",
      " [4.6 3.1 1.5 0.2]\n",
      " [5.  3.6 1.4 0.2]]\n"
     ]
    }
   ],
   "source": [
    "# Загрузим датасет из sklearn\n",
    "iris = datasets.load_iris()\n",
    "X = iris.data\n",
    "\n",
    "print(X[:5, :])"
   ]
  },
  {
   "cell_type": "code",
   "execution_count": 4,
   "metadata": {},
   "outputs": [],
   "source": [
    "# Для начала отмасштабируем выборку\n",
    "X_ = X.astype(float)\n",
    "\n",
    "rows, cols = X_.shape\n",
    "\n",
    "# центрирование - вычитание из каждого значения среднего по строке\n",
    "means = X_.mean(0)\n",
    "for i in range(rows):\n",
    "    for j in range(cols):\n",
    "        X_[i, j] -= means[j]\n",
    "\n",
    "# деление каждого значения на стандартное отклонение\n",
    "std = np.std(X_, axis=0)\n",
    "for i in range(cols):\n",
    "    for j in range(rows):\n",
    "        X_[j][i] /= std[i]"
   ]
  },
  {
   "cell_type": "code",
   "execution_count": 5,
   "metadata": {},
   "outputs": [
    {
     "name": "stdout",
     "output_type": "stream",
     "text": [
      "<class 'numpy.ndarray'>\n",
      "[[-0.90068117  1.01900435 -1.34022653 -1.3154443 ]\n",
      " [-1.14301691 -0.13197948 -1.34022653 -1.3154443 ]\n",
      " [-1.38535265  0.32841405 -1.39706395 -1.3154443 ]\n",
      " [-1.50652052  0.09821729 -1.2833891  -1.3154443 ]\n",
      " [-1.02184904  1.24920112 -1.34022653 -1.3154443 ]]\n"
     ]
    }
   ],
   "source": [
    "print(type(X_))\n",
    "print(X_[:5, :])"
   ]
  },
  {
   "cell_type": "markdown",
   "metadata": {},
   "source": [
    "Найдём матрицы $U, V, D$\n",
    "- $U$ - матрица собственных векторов матрицы $XX^T$.<br>\n",
    "- $V$ - матрица собственных векторов матрицы $X^TX$.<br>\n",
    "- $D$ - диагональная матрица собственных значений матриц $XX^{T}$ и $X^{T}X$ (они равны и также называются сингулярными числами матрицы $X$)"
   ]
  },
  {
   "cell_type": "code",
   "execution_count": 6,
   "metadata": {},
   "outputs": [
    {
     "data": {
      "text/plain": [
       "array([[-0.10823953, -0.0409958 ,  0.02721865,  0.01371065],\n",
       "       [-0.09945776,  0.05757315,  0.0500034 ,  0.05843586],\n",
       "       [-0.1129963 ,  0.02920003, -0.00942089,  0.01609833],\n",
       "       [-0.1098971 ,  0.05101939, -0.01945713, -0.03741666],\n",
       "       [-0.11422046, -0.0552418 , -0.00335436, -0.02037905]])"
      ]
     },
     "execution_count": 6,
     "metadata": {},
     "output_type": "execute_result"
    }
   ],
   "source": [
    "# U, D, V_t = np.linalg.svd(A)\n",
    "U, D, V_t = np.linalg.svd(X_, full_matrices=False)\n",
    "U[:5, :]"
   ]
  },
  {
   "cell_type": "code",
   "execution_count": 7,
   "metadata": {},
   "outputs": [
    {
     "data": {
      "text/plain": [
       "array([20.92306556, 11.7091661 ,  4.69185798,  1.76273239])"
      ]
     },
     "execution_count": 7,
     "metadata": {},
     "output_type": "execute_result"
    }
   ],
   "source": [
    "D"
   ]
  },
  {
   "cell_type": "code",
   "execution_count": 8,
   "metadata": {},
   "outputs": [
    {
     "data": {
      "text/plain": [
       "array([[20.92306556,  0.        ,  0.        ,  0.        ],\n",
       "       [ 0.        , 11.7091661 ,  0.        ,  0.        ],\n",
       "       [ 0.        ,  0.        ,  4.69185798,  0.        ],\n",
       "       [ 0.        ,  0.        ,  0.        ,  1.76273239]])"
      ]
     },
     "execution_count": 8,
     "metadata": {},
     "output_type": "execute_result"
    }
   ],
   "source": [
    "# Преобразование матрицы столбцов или строк в диагональную матрицу\n",
    "np.diag(D)"
   ]
  },
  {
   "cell_type": "code",
   "execution_count": 9,
   "metadata": {},
   "outputs": [
    {
     "data": {
      "text/plain": [
       "array([[ 0.52106591, -0.26934744,  0.5804131 ,  0.56485654],\n",
       "       [-0.37741762, -0.92329566, -0.02449161, -0.06694199],\n",
       "       [ 0.71956635, -0.24438178, -0.14212637, -0.63427274],\n",
       "       [ 0.26128628, -0.12350962, -0.80144925,  0.52359713]])"
      ]
     },
     "execution_count": 9,
     "metadata": {},
     "output_type": "execute_result"
    }
   ],
   "source": [
    "V_t[:5, :]"
   ]
  },
  {
   "cell_type": "code",
   "execution_count": 10,
   "metadata": {},
   "outputs": [
    {
     "data": {
      "text/plain": [
       "array([[-0.90068117,  1.01900435, -1.34022653, -1.3154443 ],\n",
       "       [-1.14301691, -0.13197948, -1.34022653, -1.3154443 ],\n",
       "       [-1.38535265,  0.32841405, -1.39706395, -1.3154443 ],\n",
       "       [-1.50652052,  0.09821729, -1.2833891 , -1.3154443 ],\n",
       "       [-1.02184904,  1.24920112, -1.34022653, -1.3154443 ]])"
      ]
     },
     "execution_count": 10,
     "metadata": {},
     "output_type": "execute_result"
    }
   ],
   "source": [
    "# Получим исходную матрицу параметров\n",
    "s = np.dot(U, np.diag(D))\n",
    "X_s = np.dot(s, V_t)\n",
    "X_s[:5, :]\n",
    "\n",
    "# Видно, что X_s = X"
   ]
  },
  {
   "cell_type": "code",
   "execution_count": 11,
   "metadata": {},
   "outputs": [
    {
     "name": "stdout",
     "output_type": "stream",
     "text": [
      "(4, 4)\n"
     ]
    }
   ],
   "source": [
    "print(V_t.shape)"
   ]
  },
  {
   "cell_type": "code",
   "execution_count": 12,
   "metadata": {},
   "outputs": [
    {
     "name": "stdout",
     "output_type": "stream",
     "text": [
      "Собственные значения в порядке убывания:\n",
      "20.923065561236466\n",
      "11.709166098412418\n",
      "4.691857983325718\n",
      "1.7627323858977804\n"
     ]
    }
   ],
   "source": [
    "print('Собственные значения в порядке убывания:')\n",
    "# eig_pairs[0] или eig_values\n",
    "for i in D:\n",
    "    print(i)"
   ]
  },
  {
   "cell_type": "markdown",
   "metadata": {},
   "source": [
    "Оценим долю дисперсии, которая описывается найденными компонентами."
   ]
  },
  {
   "cell_type": "code",
   "execution_count": 13,
   "metadata": {},
   "outputs": [
    {
     "name": "stdout",
     "output_type": "stream",
     "text": [
      "Доля дисперсии, описываемая каждой из компонент \n",
      "[53.52971788236241, 29.95681278402008, 12.003682417209488, 4.509786916408036]\n",
      "Кумулятивная доля дисперсии по компонентам \n",
      "[ 53.52971788  83.48653067  95.49021308 100.        ]\n"
     ]
    }
   ],
   "source": [
    "D_sum = sum(D)\n",
    "# print(D_sum)\n",
    "\n",
    "var_exp = [(i / D_sum) * 100 for i in sorted(D, reverse=True)]\n",
    "# print(var_exp)\n",
    "\n",
    "cum_var_exp = np.cumsum(var_exp)\n",
    "print(f'Доля дисперсии, описываемая каждой из компонент \\n{var_exp}')\n",
    "\n",
    "# а теперя оценим кумулятивную (то есть накапливаемую) дисперсию при учитывании каждой из компонент\n",
    "print(f'Кумулятивная доля дисперсии по компонентам \\n{cum_var_exp}')"
   ]
  },
  {
   "cell_type": "markdown",
   "metadata": {},
   "source": [
    "Таким образом, первая главная компонента описывает 53.5% информации, первые две в сумме - 83.5%, первые три в сумме - 95.5%. В то же время последняя компонента описывает всего 4.5% и может быть отброжена без страха значительных потерь в качестве нашего анализа. Мы отбросим последнюю компоненту, оставив первые три."
   ]
  },
  {
   "cell_type": "code",
   "execution_count": 14,
   "metadata": {},
   "outputs": [
    {
     "name": "stdout",
     "output_type": "stream",
     "text": [
      "Матрица весов W:\n",
      " [[ 0.52106591 -0.26934744  0.5804131 ]\n",
      " [-0.37741762 -0.92329566 -0.02449161]\n",
      " [ 0.71956635 -0.24438178 -0.14212637]\n",
      " [ 0.26128628 -0.12350962 -0.80144925]]\n"
     ]
    }
   ],
   "source": [
    "# Сформируем вектор весов из собственных векторов, соответствующих первым трём главным компонентам\n",
    "W = V_t[0:V_t.shape[0], 0:3].copy()\n",
    "print(f'Матрица весов W:\\n', W)"
   ]
  },
  {
   "cell_type": "code",
   "execution_count": 15,
   "metadata": {},
   "outputs": [
    {
     "data": {
      "text/plain": [
       "array([[-2.16199391, -0.20824916,  0.69701917],\n",
       "       [-1.85386523,  0.91972173,  0.58455377],\n",
       "       [-2.19479706,  0.57380492,  0.44070126],\n",
       "       [-2.08925659,  0.79120079,  0.35985553],\n",
       "       [-2.31201067, -0.38815258,  0.62105386]])"
      ]
     },
     "execution_count": 15,
     "metadata": {},
     "output_type": "execute_result"
    }
   ],
   "source": [
    "# Сформируем новую матрицу \"объекты-признаки\"\n",
    "Z = X_.dot(W)\n",
    "# Выведим 5 верхних строк матрицы Z\n",
    "Z[:5, :]"
   ]
  },
  {
   "cell_type": "code",
   "execution_count": 16,
   "metadata": {},
   "outputs": [
    {
     "data": {
      "image/png": "[encoded data removed]",
      "text/plain": [
       "<Figure size 432x288 with 1 Axes>"
      ]
     },
     "metadata": {
      "needs_background": "light"
     },
     "output_type": "display_data"
    }
   ],
   "source": [
    "plt.figure()\n",
    "y = iris.target\n",
    "for c, i in zip(\"rgb\", [0, 1, 2]):\n",
    "    plt.scatter(Z[y==i, 0], Z[y==i, 1], c=c)\n",
    "plt.xlabel('Главная компонента 1')\n",
    "plt.ylabel('Главная компонента 2')\n",
    "plt.title('PCA датасета IRIS')\n",
    "plt.show()"
   ]
  },
  {
   "cell_type": "markdown",
   "metadata": {},
   "source": [
    "Таким образом, используя метод главных компонент (PCA), мы перешли от четырехмерного пространства признаков к трёхмерному и при этом классы остались разделимы в пространстве, то есть классификация возможна."
   ]
  },
  {
   "cell_type": "markdown",
   "metadata": {},
   "source": [
    "# Задание 2. (*):\n",
    "\n",
    "- Обучить любую модель классификации на датасете IRIS до применения PCA и после него. Сравнить качество классификации по отложенной выборке."
   ]
  },
  {
   "cell_type": "markdown",
   "metadata": {},
   "source": [
    "### 2.1 Обучаем модель классификации на датасете IRIS без применения PCA "
   ]
  },
  {
   "cell_type": "code",
   "execution_count": 17,
   "metadata": {},
   "outputs": [
    {
     "name": "stdout",
     "output_type": "stream",
     "text": [
      "[[-0.90068117  1.01900435 -1.34022653 -1.3154443 ]\n",
      " [-1.14301691 -0.13197948 -1.34022653 -1.3154443 ]\n",
      " [-1.38535265  0.32841405 -1.39706395 -1.3154443 ]\n",
      " [-1.50652052  0.09821729 -1.2833891  -1.3154443 ]\n",
      " [-1.02184904  1.24920112 -1.34022653 -1.3154443 ]]\n"
     ]
    }
   ],
   "source": [
    "# Используем загруженный и отмасштабированнй в задании 1.(*) датасет IRIS, к которому не применялся PCA\n",
    "\n",
    "# Отобразим первые 5 сторк датасета\n",
    "print(X_[:5, :])"
   ]
  },
  {
   "cell_type": "markdown",
   "metadata": {},
   "source": [
    "Разделим выборку на обучающую и тестовую"
   ]
  },
  {
   "cell_type": "code",
   "execution_count": 18,
   "metadata": {},
   "outputs": [],
   "source": [
    "X_train, X_test, y_train, y_test = train_test_split(X_, y, test_size=0.2, random_state=1)"
   ]
  },
  {
   "cell_type": "markdown",
   "metadata": {},
   "source": [
    "### Визуализация"
   ]
  },
  {
   "cell_type": "code",
   "execution_count": 19,
   "metadata": {},
   "outputs": [
    {
     "data": {
      "image/png": "[encoded data removed]",
      "text/plain": [
       "<Figure size 432x288 with 1 Axes>"
      ]
     },
     "metadata": {
      "needs_background": "light"
     },
     "output_type": "display_data"
    }
   ],
   "source": [
    "### Визуализация (вариант 1)\n",
    "plt.figure()\n",
    "y = iris.target\n",
    "for c, i in zip(\"rgb\", [0, 1, 2]):\n",
    "    plt.scatter(X_[y==i, 0], X_[y==i, 1], c=c)\n",
    "plt.xlabel('Главная компонента 1')\n",
    "plt.ylabel('Главная компонента 2')\n",
    "plt.title('PCA датасета IRIS')\n",
    "plt.show()"
   ]
  },
  {
   "cell_type": "code",
   "execution_count": 20,
   "metadata": {},
   "outputs": [
    {
     "data": {
      "text/plain": [
       "<matplotlib.collections.PathCollection at 0xc59379b220>"
      ]
     },
     "execution_count": 20,
     "metadata": {},
     "output_type": "execute_result"
    },
    {
     "data": {
      "image/png": "[encoded data removed]",
      "text/plain": [
       "<Figure size 504x504 with 1 Axes>"
      ]
     },
     "metadata": {
      "needs_background": "light"
     },
     "output_type": "display_data"
    }
   ],
   "source": [
    "# Визуализация  (вариант 2)\n",
    "from matplotlib.colors import ListedColormap\n",
    "\n",
    "cmap = ListedColormap(['red', 'green', 'blue', 'yellow', 'black'])\n",
    "plt.figure(figsize=(7, 7))\n",
    "plt.scatter(X_[:, 0], X_[:, 1], c=y, cmap=cmap)"
   ]
  },
  {
   "cell_type": "markdown",
   "metadata": {},
   "source": [
    "Используем евклидову метрику. Реализуем функцию для ее подсчета."
   ]
  },
  {
   "cell_type": "code",
   "execution_count": 21,
   "metadata": {},
   "outputs": [],
   "source": [
    "def e_metrics(x1, x2):\n",
    "    \n",
    "    distance = 0\n",
    "    for i in range(len(x1)):\n",
    "        distance += np.square(x1[i] - x2[i])\n",
    "      \n",
    "    return np.sqrt(distance)"
   ]
  },
  {
   "cell_type": "markdown",
   "metadata": {},
   "source": [
    "Реализуем алгоритм поиска k ближайших соседей."
   ]
  },
  {
   "cell_type": "code",
   "execution_count": 22,
   "metadata": {},
   "outputs": [],
   "source": [
    "def knn(x_train, y_train, x_test, k):\n",
    "    # Базовый алгоритм (вариант из методички), без взвешивания.\n",
    "    \n",
    "    answers = []\n",
    "    for x in x_test:\n",
    "        test_distances = []\n",
    "            \n",
    "        for i in range(len(x_train)):\n",
    "            \n",
    "            # расчет расстояния от классифицируемого объекта до\n",
    "            # объекта обучающей выборки\n",
    "            distance = e_metrics(x, x_train[i])\n",
    "            \n",
    "            # Записываем в список значение расстояния и ответа на объекте обучающей выборки\n",
    "            test_distances.append((distance, y_train[i]))\n",
    "        \n",
    "        # создаем словарь со всеми возможными классами\n",
    "        classes = {class_item: 0 for class_item in set(y_train)}\n",
    "        \n",
    "        # Сортируем список и среди первых k элементов подсчитаем частоту появления разных классов\n",
    "        for d in sorted(test_distances)[0:k]:\n",
    "            classes[d[1]] += 1\n",
    "            \n",
    "        # Записываем в список ответов наиболее часто встречающийся класс\n",
    "        answers.append(sorted(classes, key=classes.get)[-1])\n",
    "    return answers"
   ]
  },
  {
   "cell_type": "markdown",
   "metadata": {},
   "source": [
    "Функция для вычисления точности"
   ]
  },
  {
   "cell_type": "code",
   "execution_count": 23,
   "metadata": {},
   "outputs": [],
   "source": [
    "def accuracy(pred, y):\n",
    "    return (sum(pred == y) / len(y))"
   ]
  },
  {
   "cell_type": "code",
   "execution_count": 24,
   "metadata": {},
   "outputs": [],
   "source": [
    "def get_graph(X_train, y_train, k, q: 0.1, algorism):\n",
    "    \"\"\"\n",
    "    Строим график распределения классов.\n",
    "    \n",
    "    \"\"\"\n",
    "    cmap_light = ListedColormap(['#FFAAAA', '#AAFFAA','#00AAFF','#FFAA00'])\n",
    "\n",
    "    h = .02\n",
    "\n",
    "    # Расчет пределов графика\n",
    "    x_min, x_max = X_train[:, 0].min() - 1, X_train[:, 0].max() + 1\n",
    "    y_min, y_max = X_train[:, 1].min() - 1, X_train[:, 1].max() + 1\n",
    "    xx, yy = np.meshgrid(np.arange(x_min, x_max, h), np.arange(y_min, y_max, h))\n",
    "\n",
    "    # Получим предсказания для всех точек\n",
    "    if algorism == 0:\n",
    "        # Без взвешивания\n",
    "        Z = knn(X_train, y_train, np.c_[xx.ravel(), yy.ravel()], k)\n",
    "    if algorism == 1:    \n",
    "        # Взвешивание по индексам\n",
    "        Z = knn_wi(X_train, y_train, np.c_[xx.ravel(), yy.ravel()], k, q)\n",
    "    if algorism == 2:\n",
    "        # Взвешивание по расстоянию\n",
    "        Z = knn_wn(X_train, y_train, np.c_[xx.ravel(), yy.ravel()], k, q)\n",
    "\n",
    "    # Построим график\n",
    "    Z = np.array(Z).reshape(xx.shape)\n",
    "    plt.figure(figsize=(7,7))\n",
    "    plt.pcolormesh(xx, yy, Z, cmap=cmap_light)\n",
    "\n",
    "    # Добавим на график обучающую выборку\n",
    "    plt.scatter(X_train[:, 0], X_train[:, 1], c=y_train, cmap=cmap)\n",
    "    plt.xlim(xx.min(), xx.max())\n",
    "    plt.ylim(yy.min(), yy.max())\n",
    "    plt.title(f\"Трехклассовая kNN классификация при k = {k}\")\n",
    "    plt.show()"
   ]
  },
  {
   "cell_type": "markdown",
   "metadata": {},
   "source": [
    "Проверим работу алгоритма при k=5"
   ]
  },
  {
   "cell_type": "code",
   "execution_count": 25,
   "metadata": {},
   "outputs": [
    {
     "name": "stdout",
     "output_type": "stream",
     "text": [
      "Точность алгоритма при k = 5: 0.9666666666666667\n"
     ]
    }
   ],
   "source": [
    "k = 5\n",
    "y_pred = knn(X_train, y_train, X_test, k)\n",
    "#print(f'Точность алгоритма при k = {k}: {accuracy(y_pred, y_test):.3f}')\n",
    "print(f'Точность алгоритма при k = {k}: {accuracy(y_pred, y_test)}')"
   ]
  },
  {
   "cell_type": "markdown",
   "metadata": {},
   "source": [
    "Построим график распределения классов."
   ]
  },
  {
   "cell_type": "code",
   "execution_count": 26,
   "metadata": {},
   "outputs": [
    {
     "name": "stderr",
     "output_type": "stream",
     "text": [
      "<ipython-input-24-ddb2c92b3541>:29: MatplotlibDeprecationWarning: shading='flat' when X and Y have the same dimensions as C is deprecated since 3.3.  Either specify the corners of the quadrilaterals with X and Y, or pass shading='auto', 'nearest' or 'gouraud', or set rcParams['pcolor.shading'].  This will become an error two minor releases later.\n",
      "  plt.pcolormesh(xx, yy, Z, cmap=cmap_light)\n"
     ]
    },
    {
     "data": {
      "image/png": "[encoded data removed]",
      "text/plain": [
       "<Figure size 504x504 with 1 Axes>"
      ]
     },
     "metadata": {
      "needs_background": "light"
     },
     "output_type": "display_data"
    }
   ],
   "source": [
    "algorism = 0\n",
    "q = 0.5\n",
    "get_graph(X_train, y_train, k, q, algorism)"
   ]
  },
  {
   "cell_type": "markdown",
   "metadata": {},
   "source": [
    "### 2.2 Обучаем модель классификации на датасете IRIS с применением PCA "
   ]
  },
  {
   "cell_type": "code",
   "execution_count": 27,
   "metadata": {},
   "outputs": [
    {
     "name": "stdout",
     "output_type": "stream",
     "text": [
      "[[-2.16199391 -0.20824916  0.69701917]\n",
      " [-1.85386523  0.91972173  0.58455377]\n",
      " [-2.19479706  0.57380492  0.44070126]\n",
      " [-2.08925659  0.79120079  0.35985553]\n",
      " [-2.31201067 -0.38815258  0.62105386]]\n"
     ]
    }
   ],
   "source": [
    "# Используем загруженный и отмасштабированный в задании 1.(*) датасет Z, полученный из X_ применением метода PCA\n",
    "print(Z[:5, :])"
   ]
  },
  {
   "cell_type": "markdown",
   "metadata": {},
   "source": [
    "### 1-вариант: используем 3 параметра вместо 4"
   ]
  },
  {
   "cell_type": "code",
   "execution_count": 28,
   "metadata": {},
   "outputs": [
    {
     "name": "stdout",
     "output_type": "stream",
     "text": [
      "[[-2.16199391 -0.20824916  0.69701917]\n",
      " [-1.85386523  0.91972173  0.58455377]\n",
      " [-2.19479706  0.57380492  0.44070126]\n",
      " [-2.08925659  0.79120079  0.35985553]\n",
      " [-2.31201067 -0.38815258  0.62105386]]\n"
     ]
    }
   ],
   "source": [
    "Z_ = Z[0:Z.shape[0], 0:3]\n",
    "\n",
    "# Отобразим первые 5 сторк датасета\n",
    "print(Z_[:5, :])"
   ]
  },
  {
   "cell_type": "code",
   "execution_count": 29,
   "metadata": {},
   "outputs": [
    {
     "data": {
      "image/png": "[encoded data removed]",
      "text/plain": [
       "<Figure size 432x288 with 1 Axes>"
      ]
     },
     "metadata": {
      "needs_background": "light"
     },
     "output_type": "display_data"
    }
   ],
   "source": [
    "# Визуализация\n",
    "plt.figure()\n",
    "y = iris.target\n",
    "for c, i in zip(\"rgb\", [0, 1, 2]):\n",
    "    plt.scatter(Z_[y==i, 0], Z[y==i, 1], c=c)\n",
    "plt.xlabel('Главная компонента 1')\n",
    "plt.ylabel('Главная компонента 2')\n",
    "plt.title('PCA датасета IRIS')\n",
    "plt.show()"
   ]
  },
  {
   "cell_type": "markdown",
   "metadata": {},
   "source": [
    "Разделим выборку на обучающую и тестовую"
   ]
  },
  {
   "cell_type": "code",
   "execution_count": 30,
   "metadata": {},
   "outputs": [],
   "source": [
    "Z_train, Z_test, y_train, y_test = train_test_split(Z_, y, test_size=0.2, random_state=1)"
   ]
  },
  {
   "cell_type": "markdown",
   "metadata": {},
   "source": [
    "Проверим работу алгоритма при k=5"
   ]
  },
  {
   "cell_type": "code",
   "execution_count": 31,
   "metadata": {},
   "outputs": [
    {
     "name": "stdout",
     "output_type": "stream",
     "text": [
      "Точность алгоритма при k = 5: 0.9666666666666667\n"
     ]
    }
   ],
   "source": [
    "k = 5\n",
    "y_pred = knn(Z_train, y_train, Z_test, k)\n",
    "#print(f'Точность алгоритма при k = {k}: {accuracy(y_pred, y_test):.3f}')\n",
    "print(f'Точность алгоритма при k = {k}: {accuracy(y_pred, y_test)}')"
   ]
  },
  {
   "cell_type": "markdown",
   "metadata": {},
   "source": [
    "Построим график распределения классов."
   ]
  },
  {
   "cell_type": "code",
   "execution_count": 32,
   "metadata": {},
   "outputs": [
    {
     "name": "stderr",
     "output_type": "stream",
     "text": [
      "<ipython-input-24-ddb2c92b3541>:29: MatplotlibDeprecationWarning: shading='flat' when X and Y have the same dimensions as C is deprecated since 3.3.  Either specify the corners of the quadrilaterals with X and Y, or pass shading='auto', 'nearest' or 'gouraud', or set rcParams['pcolor.shading'].  This will become an error two minor releases later.\n",
      "  plt.pcolormesh(xx, yy, Z, cmap=cmap_light)\n"
     ]
    },
    {
     "data": {
      "image/png": "[encoded data removed]",
      "text/plain": [
       "<Figure size 504x504 with 1 Axes>"
      ]
     },
     "metadata": {
      "needs_background": "light"
     },
     "output_type": "display_data"
    }
   ],
   "source": [
    "algorism = 0\n",
    "q = 0.5\n",
    "get_graph(Z_train, y_train, k, q, algorism)"
   ]
  },
  {
   "cell_type": "markdown",
   "metadata": {},
   "source": [
    "### 2-вариант: используем 2 параметра вместо 4"
   ]
  },
  {
   "cell_type": "code",
   "execution_count": 33,
   "metadata": {},
   "outputs": [
    {
     "name": "stdout",
     "output_type": "stream",
     "text": [
      "[[-2.16199391 -0.20824916]\n",
      " [-1.85386523  0.91972173]\n",
      " [-2.19479706  0.57380492]\n",
      " [-2.08925659  0.79120079]\n",
      " [-2.31201067 -0.38815258]]\n"
     ]
    }
   ],
   "source": [
    "# Используем загруженный и отмасштабированный в задании 1.(*) датасет Z, полученный из X_ применением метода PCA\n",
    "Z_ = Z[0:Z.shape[0], 0:2]\n",
    "\n",
    "# Отобразим первые 5 сторк датасета\n",
    "print(Z_[:5, :])"
   ]
  },
  {
   "cell_type": "code",
   "execution_count": 34,
   "metadata": {},
   "outputs": [
    {
     "data": {
      "image/png": "[encoded data removed]",
      "text/plain": [
       "<Figure size 432x288 with 1 Axes>"
      ]
     },
     "metadata": {
      "needs_background": "light"
     },
     "output_type": "display_data"
    }
   ],
   "source": [
    "# Визуализация\n",
    "plt.figure()\n",
    "y = iris.target\n",
    "for c, i in zip(\"rgb\", [0, 1, 2]):\n",
    "    plt.scatter(Z_[y==i, 0], Z[y==i, 1], c=c)\n",
    "plt.xlabel('Главная компонента 1')\n",
    "plt.ylabel('Главная компонента 2')\n",
    "plt.title('PCA датасета IRIS')\n",
    "plt.show()"
   ]
  },
  {
   "cell_type": "code",
   "execution_count": 35,
   "metadata": {},
   "outputs": [],
   "source": [
    "# # Визуализация\n",
    "# cmap = ListedColormap(['red', 'green', 'blue', 'yellow', 'black'])\n",
    "# plt.figure(figsize=(7, 7))\n",
    "# plt.scatter(Z[:, 0], Z[:, 1], c=y, cmap=cmap)"
   ]
  },
  {
   "cell_type": "markdown",
   "metadata": {},
   "source": [
    "Разделим выборку на обучающую и тестовую"
   ]
  },
  {
   "cell_type": "code",
   "execution_count": 36,
   "metadata": {},
   "outputs": [],
   "source": [
    "Z_train, Z_test, y_train, y_test = train_test_split(Z_, y, test_size=0.2, random_state=1)"
   ]
  },
  {
   "cell_type": "markdown",
   "metadata": {},
   "source": [
    "Проверим работу алгоритма при k=5"
   ]
  },
  {
   "cell_type": "code",
   "execution_count": 37,
   "metadata": {},
   "outputs": [
    {
     "name": "stdout",
     "output_type": "stream",
     "text": [
      "Точность алгоритма при k = 5: 0.9333333333333333\n"
     ]
    }
   ],
   "source": [
    "k = 5\n",
    "y_pred = knn(Z_train, y_train, Z_test, k)\n",
    "#print(f'Точность алгоритма при k = {k}: {accuracy(y_pred, y_test):.3f}')\n",
    "print(f'Точность алгоритма при k = {k}: {accuracy(y_pred, y_test)}')"
   ]
  },
  {
   "cell_type": "markdown",
   "metadata": {},
   "source": [
    "Построим график распределения классов."
   ]
  },
  {
   "cell_type": "code",
   "execution_count": 38,
   "metadata": {},
   "outputs": [
    {
     "name": "stderr",
     "output_type": "stream",
     "text": [
      "<ipython-input-24-ddb2c92b3541>:29: MatplotlibDeprecationWarning: shading='flat' when X and Y have the same dimensions as C is deprecated since 3.3.  Either specify the corners of the quadrilaterals with X and Y, or pass shading='auto', 'nearest' or 'gouraud', or set rcParams['pcolor.shading'].  This will become an error two minor releases later.\n",
      "  plt.pcolormesh(xx, yy, Z, cmap=cmap_light)\n"
     ]
    },
    {
     "data": {
      "image/png": "[encoded data removed]",
      "text/plain": [
       "<Figure size 504x504 with 1 Axes>"
      ]
     },
     "metadata": {
      "needs_background": "light"
     },
     "output_type": "display_data"
    }
   ],
   "source": [
    "algorism = 0\n",
    "q = 0.5\n",
    "get_graph(Z_train, y_train, k, q, algorism)"
   ]
  },
  {
   "cell_type": "markdown",
   "metadata": {},
   "source": [
    "### 2.3  Сравнить качество классификации по отложенной выборке."
   ]
  },
  {
   "cell_type": "markdown",
   "metadata": {},
   "source": [
    "Количество ближайших соседей k = 5\n",
    "\n",
    "__1__ _Модель классификации на датасете IRIS без применения PCA_ (в модели использованы 4 параметра)\n",
    "\n",
    "    Точность алгоритма при k = 5: 0.9666666666666667\n",
    "    \n",
    "__2__ _Модель классификации на датасете IRIS с применением PCA_ (в модели использованы 3 параметра)\n",
    "\n",
    "    Точность алгоритма при k = 5: 0.9666666666666667\n",
    "    \n",
    "__3__ _Модель классификации на датасете IRIS с применением PCA_ (в модели использованы 2 параметра)\n",
    "\n",
    "    Точность алгоритма при k = 5: 0.9333333333333333\n",
    "\n",
    "__Вывод__\n",
    "\n",
    "Для данного конкретного датасета, точность 1 и 2 случаев оказалась одинакова.\n",
    "При этом во втором случае количество параметров меньше (3 вместо 4).\n",
    "Это говорит о том, что уменьшение размерности не повлияло на качество нашей модели.\n",
    "\n",
    "Для данного конкретного датасета, точность 1 и 3 случаев оказалась разная.\n",
    "Для третьего случая она оказалась ниже чем в первом, но всё ещё высокая. При этом количество используемых параметров в третьем случае равно 2, в то время как в первом 4 (2 вместо 4).\n",
    "\n",
    "Таким образом даже мы видим, что даже при использовании двух параметров с использованием метода PCA, классификация возможна.\n",
    "\n",
    "При этом визуальное разделение на классы в случае использования метода PCA, более качественно (см. графики распределения классов)."
   ]
  },
  {
   "cell_type": "code",
   "execution_count": null,
   "metadata": {},
   "outputs": [],
   "source": []
  }
 ],
 "metadata": {
  "kernelspec": {
   "display_name": "Python 3",
   "language": "python",
   "name": "python3"
  },
  "language_info": {
   "codemirror_mode": {
    "name": "ipython",
    "version": 3
   },
   "file_extension": ".py",
   "mimetype": "text/x-python",
   "name": "python",
   "nbconvert_exporter": "python",
   "pygments_lexer": "ipython3",
   "version": "3.8.5"
  }
 },
 "nbformat": 4,
 "nbformat_minor": 4
}
